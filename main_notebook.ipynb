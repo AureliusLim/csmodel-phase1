{
 "cells": [
  {
   "cell_type": "markdown",
   "id": "52b17a6d-5067-4fbf-89d9-65bc602a5b60",
   "metadata": {},
   "source": [
    "# Dataset Description"
   ]
  },
  {
   "cell_type": "markdown",
   "id": "b011776b-5624-4246-ad3f-a8e186555412",
   "metadata": {},
   "source": [
    " **Dataset: Laptop Specs and Latest Price By Santosh Kumar (2022)**"
   ]
  },
  {
   "cell_type": "markdown",
   "id": "b6cbf2e7-7154-4bd5-9e63-e77c68834cdd",
   "metadata": {},
   "source": [
    "**Brief Overview**\n",
    "\n",
    "**The dataset illustrates the factors that influence the prices of laptops**\n",
    "\n",
    "* Several different factors can affect laptop computer prices. These factors include the brand of computer and the number of options and add-ons included in the computer package. In addition, the amount of memory and the speed of the processor can also affect pricing. Though less common, some consumers spend additional money to purchase a computer based on the overall “look” and design of the system.\n",
    "\n",
    "* In many cases, name brand computers are more expensive than generic versions. This price increase often has more to do with name recognition than any actual superiority of the product. One major difference between name brand and generic systems is that in most cases, name brand computers offer better warranties than generic versions. Having the option of returning a computer that is malfunctioning is often enough of an incentive to encourage many consumers to spend more money.\n",
    "\n",
    "* Functionality is an important factor in determining laptop computer prices. A computer with more memory often performs better for a longer time than a computer with less memory. In addition, hard drive space is also crucial, and the size of the hard drive usually affects pricing. Many consumers may also look for digital video drivers and other types of recording devices that may affect the laptop computer prices.\n",
    "\n",
    "* Most computers come with some software pre-installed. In most cases, the more software that is installed on a computer, the more expensive it is. This is especially true if the installed programs are from well-established and recognizable software publishers. Those considering purchasing a new laptop computer should be aware that many of the pre-installed programs may be trial versions only, and will expire within a certain time period. In order to keep the programs, a code will need to be purchased, and then a permanent version of the software can be downloaded.\n",
    "\n",
    "* Many consumers who are purchasing a new computer are buying an entire package. In addition to the computer itself, these systems typically include a monitor, keyboard, and mouse. Some packages may even include a printer or digital camera. The number of extras included in a computer package usually affects laptop computer prices.\n",
    "\n",
    "* Some industry leaders in computer manufacturing make it a selling point to offer computers in sleek styling and in a variety of colors. They may also offer unusual or contemporary system design. Though this is less important to many consumers, for those who do value “looks,” this type of system may be well worth the extra cost."
   ]
  },
  {
   "cell_type": "markdown",
   "id": "eaf1a433-8b7e-4c9d-990a-10bd7348b4a2",
   "metadata": {},
   "source": [
    "**Collection Process**\n",
    "\n",
    "The data was gathered from flipkart.com in which an automated chrome web extension tool called Instant Data Scrapper was utilized. Instant Data Scraper extracts data from web pages and exports it as Excel or CSV files. It is an automated data extraction tool for any website. It utilizes an AI to predict which data is most relevant on a HTML page. \n",
    "\n",
    "The tool does not require scripts. It uses heuristic AI analysis of HTML structure to detect data for extraction. If the prediction is not satisfactory, it lets the user customize the selections for greater accuracy. Data scraping works just as well for small to much larger and known website such as Amazon.\n",
    "**NEED TO ADD HOW COLLECTION PROCESS AFFECTS INSIGHTS**"
   ]
  },
  {
   "cell_type": "markdown",
   "id": "2057d93e-6e52-413d-a4ab-51b8d1a542b4",
   "metadata": {},
   "source": [
    "**Structure of the Dataset**\n",
    "\n",
    "The dataset presents different laptops and their characteristics. Each row is equivalent to a single laptop that is listed by a seller on flipkart.com. There are 896 rows on the dataset which means that the number of laptops gathered for the dataset is precisely 896 aswell. On the other hand, there are 23 columns on the dataset. Each column represents a specific attribute or variable of a laptop. \n",
    "\n",
    "**Description of each variable**\n",
    "* **brand**- refers to how the laptop is publicly distinguished from those manufactured by other companies\n",
    "* **model**- the particular version or design of a laptop from a given manufacturer\n",
    "* **processor_brand**- refers to how the laptop's processor is publicly distinguished from those manufactured by other companies\n",
    "* **processor_name**- refers to the specific processor of the laptop\n",
    "* **processor_gnrtn**- refers to the generation number of the laptop's processor\n",
    "* **ram_gb**- refers to the total RAM of the laptop in GB\n",
    "* **ram_type**- refers to the type of the laptop's RAM\n",
    "* **ssd**- refers to the capacity of the laptop's SSD\n",
    "* **hdd**- refers to the capacity of the laptop's HDD\n",
    "* **os**- refers to the operating system of the laptop\n",
    "* **os_bit**- determines whether the OS is 32-bit or 64-bit\n",
    "* **graphic_card_gb**- refers to the video memory of the laptop in GB\n",
    "* **weight**- refers to the weight classification of the laptop\n",
    "* **display_size**- refers to the diagonal length of the laptop's screen in inches\n",
    "* **warranty**- refers to the warranty in years\n",
    "* **touchscreeen**- determines whether or not the laptop has touchscreen capabilities\n",
    "* **msoffice**- if the laptop comes preinstalled with msoffice\n",
    "* **latest-price**- latest price in Indian Rupees\n",
    "* **old_price**- original price in Indian Rupees\n",
    "* **discount**- the discount in % applied to the old_price\n",
    "* **star_rating**- refers to the average star rating to the product wherein 0 is the lowest and 5 is the highest\n",
    "* **ratings**- refers to the total number of ratings given by buyers\n",
    "* **reviews**- refers to the total number of reviews written by buyers"
   ]
  },
  {
   "cell_type": "markdown",
   "id": "09c57203-d17a-4029-8673-07fbbc4a8565",
   "metadata": {},
   "source": [
    "## Data Cleaning"
   ]
  },
  {
   "cell_type": "markdown",
   "id": "5d02d925-5cb4-4029-b388-b7c6d27e7d30",
   "metadata": {},
   "source": [
    "Among all the variables, only one variable, which is namely: \"processor_name\", showed major inconsistencies with its data representation. Some cells were quite ambiguous or too broad with its naming. An example of this is a processor name of \"Ryzen\" and \"Core\". The issue here is that there are too many cpu's under those categories. Because of this, those observations are going to be dropped. From a total of 896 observations, the dataset was reduced to 881 observations after cleaning the variable. Moving on to the lesser issues is the formatting of the variable \"ram_gb\". Each one is accompanied by 2 \"GB\" following the value. An example of this is \"4 GB GB\", \" 8 GB GB\" and so on. This is not as much of an issue since the whole dataset is formatted in a similar way. However, it is still modified in this notebook to make the data more elegant. Lastly, some values of the variable \"old_price\" are set to 0. This occurs whenever no discount is available. Because of this, its price had always been the value of \"latest_price\". However to avoid confusion it is better to set the value equal to the \"latest_price\" as well which is what has been done in the notebook. "
   ]
  },
  {
   "cell_type": "code",
   "execution_count": 1,
   "id": "ec2d89fc-3047-4370-89af-79fdaf670f35",
   "metadata": {},
   "outputs": [
    {
     "data": {
      "text/html": [
       "<div>\n",
       "<style scoped>\n",
       "    .dataframe tbody tr th:only-of-type {\n",
       "        vertical-align: middle;\n",
       "    }\n",
       "\n",
       "    .dataframe tbody tr th {\n",
       "        vertical-align: top;\n",
       "    }\n",
       "\n",
       "    .dataframe thead th {\n",
       "        text-align: right;\n",
       "    }\n",
       "</style>\n",
       "<table border=\"1\" class=\"dataframe\">\n",
       "  <thead>\n",
       "    <tr style=\"text-align: right;\">\n",
       "      <th></th>\n",
       "      <th>brand</th>\n",
       "      <th>model</th>\n",
       "      <th>processor_brand</th>\n",
       "      <th>processor_name</th>\n",
       "      <th>processor_gnrtn</th>\n",
       "      <th>ram_gb</th>\n",
       "      <th>ram_type</th>\n",
       "      <th>ssd</th>\n",
       "      <th>hdd</th>\n",
       "      <th>os</th>\n",
       "      <th>...</th>\n",
       "      <th>display_size</th>\n",
       "      <th>warranty</th>\n",
       "      <th>Touchscreen</th>\n",
       "      <th>msoffice</th>\n",
       "      <th>latest_price</th>\n",
       "      <th>old_price</th>\n",
       "      <th>discount</th>\n",
       "      <th>star_rating</th>\n",
       "      <th>ratings</th>\n",
       "      <th>reviews</th>\n",
       "    </tr>\n",
       "  </thead>\n",
       "  <tbody>\n",
       "    <tr>\n",
       "      <th>0</th>\n",
       "      <td>Lenovo</td>\n",
       "      <td>A6-9225</td>\n",
       "      <td>AMD</td>\n",
       "      <td>A6-9225 Processor</td>\n",
       "      <td>10th</td>\n",
       "      <td>4 GB GB</td>\n",
       "      <td>DDR4</td>\n",
       "      <td>0 GB</td>\n",
       "      <td>1024 GB</td>\n",
       "      <td>Windows</td>\n",
       "      <td>...</td>\n",
       "      <td>Missing</td>\n",
       "      <td>0</td>\n",
       "      <td>No</td>\n",
       "      <td>No</td>\n",
       "      <td>24990</td>\n",
       "      <td>32790</td>\n",
       "      <td>23</td>\n",
       "      <td>3.7</td>\n",
       "      <td>63</td>\n",
       "      <td>12</td>\n",
       "    </tr>\n",
       "    <tr>\n",
       "      <th>1</th>\n",
       "      <td>Lenovo</td>\n",
       "      <td>Ideapad</td>\n",
       "      <td>AMD</td>\n",
       "      <td>APU Dual</td>\n",
       "      <td>10th</td>\n",
       "      <td>4 GB GB</td>\n",
       "      <td>DDR4</td>\n",
       "      <td>0 GB</td>\n",
       "      <td>512 GB</td>\n",
       "      <td>Windows</td>\n",
       "      <td>...</td>\n",
       "      <td>Missing</td>\n",
       "      <td>0</td>\n",
       "      <td>No</td>\n",
       "      <td>No</td>\n",
       "      <td>19590</td>\n",
       "      <td>21325</td>\n",
       "      <td>8</td>\n",
       "      <td>3.6</td>\n",
       "      <td>1894</td>\n",
       "      <td>256</td>\n",
       "    </tr>\n",
       "    <tr>\n",
       "      <th>2</th>\n",
       "      <td>Avita</td>\n",
       "      <td>PURA</td>\n",
       "      <td>AMD</td>\n",
       "      <td>APU Dual</td>\n",
       "      <td>10th</td>\n",
       "      <td>4 GB GB</td>\n",
       "      <td>DDR4</td>\n",
       "      <td>128 GB</td>\n",
       "      <td>0 GB</td>\n",
       "      <td>Windows</td>\n",
       "      <td>...</td>\n",
       "      <td>Missing</td>\n",
       "      <td>0</td>\n",
       "      <td>No</td>\n",
       "      <td>No</td>\n",
       "      <td>19990</td>\n",
       "      <td>27990</td>\n",
       "      <td>28</td>\n",
       "      <td>3.7</td>\n",
       "      <td>1153</td>\n",
       "      <td>159</td>\n",
       "    </tr>\n",
       "    <tr>\n",
       "      <th>3</th>\n",
       "      <td>Avita</td>\n",
       "      <td>PURA</td>\n",
       "      <td>AMD</td>\n",
       "      <td>APU Dual</td>\n",
       "      <td>10th</td>\n",
       "      <td>4 GB GB</td>\n",
       "      <td>DDR4</td>\n",
       "      <td>128 GB</td>\n",
       "      <td>0 GB</td>\n",
       "      <td>Windows</td>\n",
       "      <td>...</td>\n",
       "      <td>Missing</td>\n",
       "      <td>0</td>\n",
       "      <td>No</td>\n",
       "      <td>No</td>\n",
       "      <td>21490</td>\n",
       "      <td>27990</td>\n",
       "      <td>23</td>\n",
       "      <td>3.7</td>\n",
       "      <td>1153</td>\n",
       "      <td>159</td>\n",
       "    </tr>\n",
       "    <tr>\n",
       "      <th>4</th>\n",
       "      <td>Avita</td>\n",
       "      <td>PURA</td>\n",
       "      <td>AMD</td>\n",
       "      <td>APU Dual</td>\n",
       "      <td>10th</td>\n",
       "      <td>4 GB GB</td>\n",
       "      <td>DDR4</td>\n",
       "      <td>256 GB</td>\n",
       "      <td>0 GB</td>\n",
       "      <td>Windows</td>\n",
       "      <td>...</td>\n",
       "      <td>Missing</td>\n",
       "      <td>0</td>\n",
       "      <td>No</td>\n",
       "      <td>No</td>\n",
       "      <td>24990</td>\n",
       "      <td>33490</td>\n",
       "      <td>25</td>\n",
       "      <td>3.7</td>\n",
       "      <td>1657</td>\n",
       "      <td>234</td>\n",
       "    </tr>\n",
       "    <tr>\n",
       "      <th>5</th>\n",
       "      <td>Avita</td>\n",
       "      <td>PURA</td>\n",
       "      <td>AMD</td>\n",
       "      <td>APU Dual</td>\n",
       "      <td>10th</td>\n",
       "      <td>8 GB GB</td>\n",
       "      <td>DDR4</td>\n",
       "      <td>256 GB</td>\n",
       "      <td>0 GB</td>\n",
       "      <td>Windows</td>\n",
       "      <td>...</td>\n",
       "      <td>14</td>\n",
       "      <td>0</td>\n",
       "      <td>No</td>\n",
       "      <td>No</td>\n",
       "      <td>24990</td>\n",
       "      <td>33490</td>\n",
       "      <td>25</td>\n",
       "      <td>3.7</td>\n",
       "      <td>1657</td>\n",
       "      <td>234</td>\n",
       "    </tr>\n",
       "    <tr>\n",
       "      <th>6</th>\n",
       "      <td>HP</td>\n",
       "      <td>APU</td>\n",
       "      <td>AMD</td>\n",
       "      <td>APU Dual</td>\n",
       "      <td>10th</td>\n",
       "      <td>4 GB GB</td>\n",
       "      <td>DDR4</td>\n",
       "      <td>0 GB</td>\n",
       "      <td>1024 GB</td>\n",
       "      <td>Windows</td>\n",
       "      <td>...</td>\n",
       "      <td>14</td>\n",
       "      <td>0</td>\n",
       "      <td>No</td>\n",
       "      <td>No</td>\n",
       "      <td>20900</td>\n",
       "      <td>22825</td>\n",
       "      <td>8</td>\n",
       "      <td>3.9</td>\n",
       "      <td>1185</td>\n",
       "      <td>141</td>\n",
       "    </tr>\n",
       "    <tr>\n",
       "      <th>7</th>\n",
       "      <td>Lenovo</td>\n",
       "      <td>APU</td>\n",
       "      <td>AMD</td>\n",
       "      <td>APU Dual</td>\n",
       "      <td>10th</td>\n",
       "      <td>4 GB GB</td>\n",
       "      <td>DDR4</td>\n",
       "      <td>0 GB</td>\n",
       "      <td>1024 GB</td>\n",
       "      <td>Windows</td>\n",
       "      <td>...</td>\n",
       "      <td>Missing</td>\n",
       "      <td>0</td>\n",
       "      <td>No</td>\n",
       "      <td>No</td>\n",
       "      <td>21896</td>\n",
       "      <td>0</td>\n",
       "      <td>0</td>\n",
       "      <td>3.9</td>\n",
       "      <td>219</td>\n",
       "      <td>18</td>\n",
       "    </tr>\n",
       "    <tr>\n",
       "      <th>8</th>\n",
       "      <td>HP</td>\n",
       "      <td>Athlon</td>\n",
       "      <td>AMD</td>\n",
       "      <td>Athlon Dual</td>\n",
       "      <td>10th</td>\n",
       "      <td>32 GB GB</td>\n",
       "      <td>DDR4</td>\n",
       "      <td>32 GB</td>\n",
       "      <td>0 GB</td>\n",
       "      <td>Windows</td>\n",
       "      <td>...</td>\n",
       "      <td>14</td>\n",
       "      <td>0</td>\n",
       "      <td>No</td>\n",
       "      <td>No</td>\n",
       "      <td>26899</td>\n",
       "      <td>27668</td>\n",
       "      <td>2</td>\n",
       "      <td>0.0</td>\n",
       "      <td>0</td>\n",
       "      <td>0</td>\n",
       "    </tr>\n",
       "    <tr>\n",
       "      <th>9</th>\n",
       "      <td>acer</td>\n",
       "      <td>Aspire</td>\n",
       "      <td>AMD</td>\n",
       "      <td>Athlon Dual</td>\n",
       "      <td>10th</td>\n",
       "      <td>4 GB GB</td>\n",
       "      <td>DDR4</td>\n",
       "      <td>256 GB</td>\n",
       "      <td>0 GB</td>\n",
       "      <td>Windows</td>\n",
       "      <td>...</td>\n",
       "      <td>Missing</td>\n",
       "      <td>1</td>\n",
       "      <td>No</td>\n",
       "      <td>No</td>\n",
       "      <td>31990</td>\n",
       "      <td>36990</td>\n",
       "      <td>13</td>\n",
       "      <td>4.2</td>\n",
       "      <td>76</td>\n",
       "      <td>13</td>\n",
       "    </tr>\n",
       "  </tbody>\n",
       "</table>\n",
       "<p>10 rows × 23 columns</p>\n",
       "</div>"
      ],
      "text/plain": [
       "    brand    model processor_brand     processor_name processor_gnrtn  \\\n",
       "0  Lenovo  A6-9225             AMD  A6-9225 Processor            10th   \n",
       "1  Lenovo  Ideapad             AMD           APU Dual            10th   \n",
       "2   Avita     PURA             AMD           APU Dual            10th   \n",
       "3   Avita     PURA             AMD           APU Dual            10th   \n",
       "4   Avita     PURA             AMD           APU Dual            10th   \n",
       "5   Avita     PURA             AMD           APU Dual            10th   \n",
       "6      HP      APU             AMD           APU Dual            10th   \n",
       "7  Lenovo      APU             AMD           APU Dual            10th   \n",
       "8      HP   Athlon             AMD        Athlon Dual            10th   \n",
       "9    acer   Aspire             AMD        Athlon Dual            10th   \n",
       "\n",
       "     ram_gb ram_type     ssd      hdd       os  ... display_size  warranty  \\\n",
       "0   4 GB GB     DDR4    0 GB  1024 GB  Windows  ...      Missing         0   \n",
       "1   4 GB GB     DDR4    0 GB   512 GB  Windows  ...      Missing         0   \n",
       "2   4 GB GB     DDR4  128 GB     0 GB  Windows  ...      Missing         0   \n",
       "3   4 GB GB     DDR4  128 GB     0 GB  Windows  ...      Missing         0   \n",
       "4   4 GB GB     DDR4  256 GB     0 GB  Windows  ...      Missing         0   \n",
       "5   8 GB GB     DDR4  256 GB     0 GB  Windows  ...           14         0   \n",
       "6   4 GB GB     DDR4    0 GB  1024 GB  Windows  ...           14         0   \n",
       "7   4 GB GB     DDR4    0 GB  1024 GB  Windows  ...      Missing         0   \n",
       "8  32 GB GB     DDR4   32 GB     0 GB  Windows  ...           14         0   \n",
       "9   4 GB GB     DDR4  256 GB     0 GB  Windows  ...      Missing         1   \n",
       "\n",
       "  Touchscreen msoffice  latest_price old_price discount  star_rating  ratings  \\\n",
       "0          No       No         24990     32790       23          3.7       63   \n",
       "1          No       No         19590     21325        8          3.6     1894   \n",
       "2          No       No         19990     27990       28          3.7     1153   \n",
       "3          No       No         21490     27990       23          3.7     1153   \n",
       "4          No       No         24990     33490       25          3.7     1657   \n",
       "5          No       No         24990     33490       25          3.7     1657   \n",
       "6          No       No         20900     22825        8          3.9     1185   \n",
       "7          No       No         21896         0        0          3.9      219   \n",
       "8          No       No         26899     27668        2          0.0        0   \n",
       "9          No       No         31990     36990       13          4.2       76   \n",
       "\n",
       "   reviews  \n",
       "0       12  \n",
       "1      256  \n",
       "2      159  \n",
       "3      159  \n",
       "4      234  \n",
       "5      234  \n",
       "6      141  \n",
       "7       18  \n",
       "8        0  \n",
       "9       13  \n",
       "\n",
       "[10 rows x 23 columns]"
      ]
     },
     "execution_count": 1,
     "metadata": {},
     "output_type": "execute_result"
    }
   ],
   "source": [
    "import numpy as py\n",
    "import pandas as pd\n",
    "import matplotlib.pyplot as plt\n",
    "laptop_df = pd.read_csv(\"Laptop_data.csv\")\n",
    "laptop_df.head(10)"
   ]
  },
  {
   "cell_type": "code",
   "execution_count": 2,
   "id": "35647f81-bb8c-4c9a-89f8-42387838d09c",
   "metadata": {},
   "outputs": [
    {
     "name": "stdout",
     "output_type": "stream",
     "text": [
      "<class 'pandas.core.frame.DataFrame'>\n",
      "RangeIndex: 896 entries, 0 to 895\n",
      "Data columns (total 23 columns):\n",
      " #   Column           Non-Null Count  Dtype  \n",
      "---  ------           --------------  -----  \n",
      " 0   brand            896 non-null    object \n",
      " 1   model            896 non-null    object \n",
      " 2   processor_brand  896 non-null    object \n",
      " 3   processor_name   896 non-null    object \n",
      " 4   processor_gnrtn  896 non-null    object \n",
      " 5   ram_gb           896 non-null    object \n",
      " 6   ram_type         896 non-null    object \n",
      " 7   ssd              896 non-null    object \n",
      " 8   hdd              896 non-null    object \n",
      " 9   os               896 non-null    object \n",
      " 10  os_bit           896 non-null    object \n",
      " 11  graphic_card_gb  896 non-null    int64  \n",
      " 12  weight           896 non-null    object \n",
      " 13  display_size     896 non-null    object \n",
      " 14  warranty         896 non-null    int64  \n",
      " 15  Touchscreen      896 non-null    object \n",
      " 16  msoffice         896 non-null    object \n",
      " 17  latest_price     896 non-null    int64  \n",
      " 18  old_price        896 non-null    int64  \n",
      " 19  discount         896 non-null    int64  \n",
      " 20  star_rating      896 non-null    float64\n",
      " 21  ratings          896 non-null    int64  \n",
      " 22  reviews          896 non-null    int64  \n",
      "dtypes: float64(1), int64(7), object(15)\n",
      "memory usage: 161.1+ KB\n"
     ]
    }
   ],
   "source": [
    "laptop_df.info()"
   ]
  },
  {
   "cell_type": "code",
   "execution_count": 3,
   "id": "80685a5e-60ac-4465-81a6-27fc9b1a8274",
   "metadata": {},
   "outputs": [
    {
     "data": {
      "text/plain": [
       "Core i5              312\n",
       "Core i3              170\n",
       "Core i7              112\n",
       "Ryzen 5               85\n",
       "Ryzen 7               58\n",
       "Ryzen 9               26\n",
       "Ryzen 3               26\n",
       "Celeron Dual          24\n",
       "M1                    24\n",
       "Pentium Quad          14\n",
       "Core i9                8\n",
       "APU Dual               7\n",
       "GeForce RTX            4\n",
       "MediaTek Kompanio      3\n",
       "Genuine Windows        3\n",
       "Dual Core              3\n",
       "GeForce GTX            2\n",
       "Pentium Silver         2\n",
       "Hexa Core              2\n",
       "Ever Screenpad         2\n",
       "Athlon Dual            2\n",
       "Quad                   1\n",
       "A6-9225 Processor      1\n",
       "GEFORCE RTX            1\n",
       "Core m3                1\n",
       "Core                   1\n",
       "Ryzen                  1\n",
       "Snapdragon 7c          1\n",
       "Name: processor_name, dtype: int64"
      ]
     },
     "execution_count": 3,
     "metadata": {},
     "output_type": "execute_result"
    }
   ],
   "source": [
    "laptop_df['processor_name'].value_counts()"
   ]
  },
  {
   "cell_type": "code",
   "execution_count": 4,
   "id": "c8fc8bd0-6920-4beb-8a71-f6689a9e9e16",
   "metadata": {},
   "outputs": [
    {
     "data": {
      "text/plain": [
       "(896, 23)"
      ]
     },
     "execution_count": 4,
     "metadata": {},
     "output_type": "execute_result"
    }
   ],
   "source": [
    "laptop_df.shape"
   ]
  },
  {
   "cell_type": "code",
   "execution_count": 5,
   "id": "42fb4fa5-2c13-4609-beca-5b18b89a3218",
   "metadata": {},
   "outputs": [
    {
     "data": {
      "text/plain": [
       "(881, 23)"
      ]
     },
     "execution_count": 5,
     "metadata": {},
     "output_type": "execute_result"
    }
   ],
   "source": [
    "clean_df = laptop_df\n",
    "clean_df = laptop_df[(laptop_df.processor_name != \"Ryzen\") & (laptop_df.processor_name != \"Core\") & (laptop_df.processor_name != \"GEFORCE RTX\") & (laptop_df.processor_name != \"GeForce GTX\") & (laptop_df.processor_name != \"GeForce RTX\") & (laptop_df.processor_name != \"Quad\") & (laptop_df.processor_name != \"Ever Screenpad\") & (laptop_df.processor_name != \"Genuine Windows\")]\n",
    "clean_df.shape"
   ]
  },
  {
   "cell_type": "code",
   "execution_count": 6,
   "id": "9fc7ce82-c480-406f-bffc-ab58c6e23461",
   "metadata": {},
   "outputs": [
    {
     "data": {
      "text/plain": [
       "Core i5              312\n",
       "Core i3              170\n",
       "Core i7              112\n",
       "Ryzen 5               85\n",
       "Ryzen 7               58\n",
       "Ryzen 3               26\n",
       "Ryzen 9               26\n",
       "M1                    24\n",
       "Celeron Dual          24\n",
       "Pentium Quad          14\n",
       "Core i9                8\n",
       "APU Dual               7\n",
       "Dual Core              3\n",
       "MediaTek Kompanio      3\n",
       "Hexa Core              2\n",
       "Pentium Silver         2\n",
       "Athlon Dual            2\n",
       "A6-9225 Processor      1\n",
       "Core m3                1\n",
       "Snapdragon 7c          1\n",
       "Name: processor_name, dtype: int64"
      ]
     },
     "execution_count": 6,
     "metadata": {},
     "output_type": "execute_result"
    }
   ],
   "source": [
    "clean_df['processor_name'].value_counts()"
   ]
  },
  {
   "cell_type": "code",
   "execution_count": 7,
   "id": "d33dfc1f-3fcc-44a7-978d-341e03db2c88",
   "metadata": {},
   "outputs": [
    {
     "data": {
      "text/plain": [
       "array(['4 GB GB', '8 GB GB', '32 GB GB', '16 GB GB'], dtype=object)"
      ]
     },
     "execution_count": 7,
     "metadata": {},
     "output_type": "execute_result"
    }
   ],
   "source": [
    "clean_df['ram_gb'].unique()"
   ]
  },
  {
   "cell_type": "code",
   "execution_count": 8,
   "id": "60ae3905-d9af-484f-bd7c-2b5b7de60c8f",
   "metadata": {},
   "outputs": [
    {
     "name": "stderr",
     "output_type": "stream",
     "text": [
      "C:\\Users\\Gavin Tan\\AppData\\Local\\Temp\\ipykernel_15116\\117300580.py:1: SettingWithCopyWarning: \n",
      "A value is trying to be set on a copy of a slice from a DataFrame.\n",
      "Try using .loc[row_indexer,col_indexer] = value instead\n",
      "\n",
      "See the caveats in the documentation: https://pandas.pydata.org/pandas-docs/stable/user_guide/indexing.html#returning-a-view-versus-a-copy\n",
      "  clean_df['ram_gb'] = clean_df['ram_gb'].replace({'4 GB GB':'4 GB', '8 GB GB':'8 GB', '32 GB GB':'32 GB', '16 GB GB':'16 GB'})\n"
     ]
    },
    {
     "data": {
      "text/plain": [
       "array(['4 GB', '8 GB', '32 GB', '16 GB'], dtype=object)"
      ]
     },
     "execution_count": 8,
     "metadata": {},
     "output_type": "execute_result"
    }
   ],
   "source": [
    "clean_df['ram_gb'] = clean_df['ram_gb'].replace({'4 GB GB':'4 GB', '8 GB GB':'8 GB', '32 GB GB':'32 GB', '16 GB GB':'16 GB'})\n",
    "clean_df['ram_gb'].unique()"
   ]
  },
  {
   "cell_type": "code",
   "execution_count": 9,
   "id": "5543851f-dcc9-4c88-a538-cbf26757f0ce",
   "metadata": {},
   "outputs": [
    {
     "data": {
      "text/plain": [
       "0         48\n",
       "78990     10\n",
       "79990      9\n",
       "57990      8\n",
       "49990      7\n",
       "          ..\n",
       "97946      1\n",
       "86720      1\n",
       "151557     1\n",
       "86990      1\n",
       "78400      1\n",
       "Name: old_price, Length: 554, dtype: int64"
      ]
     },
     "execution_count": 9,
     "metadata": {},
     "output_type": "execute_result"
    }
   ],
   "source": [
    "clean_df['old_price'].value_counts()"
   ]
  },
  {
   "cell_type": "code",
   "execution_count": 10,
   "id": "1ede000f-6568-48ee-90df-a98668a11575",
   "metadata": {},
   "outputs": [
    {
     "data": {
      "text/plain": [
       "(48,)"
      ]
     },
     "execution_count": 10,
     "metadata": {},
     "output_type": "execute_result"
    }
   ],
   "source": [
    "clean_df.loc[clean_df['old_price'] == 0,'old_price'] = clean_df.latest_price\n",
    "clean_df.loc[clean_df['old_price'] == clean_df.latest_price,'old_price'].shape"
   ]
  },
  {
   "cell_type": "code",
   "execution_count": 11,
   "id": "770fc378-cfc6-4810-9954-4c2099a334c7",
   "metadata": {},
   "outputs": [],
   "source": [
    "clean_df.to_csv('laptop_cleaned.csv')"
   ]
  },
  {
   "cell_type": "markdown",
   "id": "bb51276b-365e-4073-bc63-ab8d7256cee3",
   "metadata": {},
   "source": [
    "**Exploratory Data Analysis**"
   ]
  },
  {
   "cell_type": "markdown",
   "id": "11bf21c4-baa8-4f95-a3c1-f34e193b0222",
   "metadata": {},
   "source": [
    " **1) What is the relationship between the star rating of the laptops and its price?**"
   ]
  },
  {
   "cell_type": "markdown",
   "id": "77a13bec-aed8-44a6-9fd3-04f52d1b10e8",
   "metadata": {},
   "source": [
    "Let us get all of the ratings in the dataset."
   ]
  },
  {
   "cell_type": "code",
   "execution_count": 12,
   "id": "fcabf9be-5513-4ecc-832b-cd133c429aa5",
   "metadata": {},
   "outputs": [
    {
     "data": {
      "text/plain": [
       "0.0    263\n",
       "4.4     92\n",
       "4.3     83\n",
       "4.5     68\n",
       "4.2     63\n",
       "4.6     38\n",
       "4.1     36\n",
       "4.7     35\n",
       "4.0     35\n",
       "3.8     29\n",
       "3.9     24\n",
       "4.8     23\n",
       "5.0     16\n",
       "3.7     16\n",
       "3.4     10\n",
       "3.6      9\n",
       "3.3      8\n",
       "3.5      7\n",
       "3.0      7\n",
       "3.2      3\n",
       "2.8      3\n",
       "4.9      3\n",
       "3.1      2\n",
       "2.5      2\n",
       "2.3      1\n",
       "2.0      1\n",
       "2.9      1\n",
       "1.6      1\n",
       "1.7      1\n",
       "2.7      1\n",
       "Name: star_rating, dtype: int64"
      ]
     },
     "execution_count": 12,
     "metadata": {},
     "output_type": "execute_result"
    }
   ],
   "source": [
    "clean_df[\"star_rating\"].value_counts()"
   ]
  },
  {
   "cell_type": "markdown",
   "id": "340593cb-78ad-450c-a6b7-51d4fa3d0e09",
   "metadata": {
    "tags": []
   },
   "source": [
    "We see that there are laptops which have a rating of 0.0.\n",
    "\n",
    "Next, we filter out the laptops with a rating of 0.0 to prevent its effect on the mean."
   ]
  },
  {
   "cell_type": "code",
   "execution_count": 13,
   "id": "5199908e-24e8-488c-bf12-03ceadb3ef89",
   "metadata": {},
   "outputs": [
    {
     "data": {
      "text/plain": [
       "4.4    92\n",
       "4.3    83\n",
       "4.5    68\n",
       "4.2    63\n",
       "4.6    38\n",
       "4.1    36\n",
       "4.7    35\n",
       "4.0    35\n",
       "3.8    29\n",
       "3.9    24\n",
       "4.8    23\n",
       "5.0    16\n",
       "3.7    16\n",
       "3.4    10\n",
       "3.6     9\n",
       "3.3     8\n",
       "3.5     7\n",
       "3.0     7\n",
       "3.2     3\n",
       "2.8     3\n",
       "4.9     3\n",
       "3.1     2\n",
       "2.5     2\n",
       "2.3     1\n",
       "2.0     1\n",
       "2.9     1\n",
       "1.6     1\n",
       "1.7     1\n",
       "2.7     1\n",
       "Name: star_rating, dtype: int64"
      ]
     },
     "execution_count": 13,
     "metadata": {},
     "output_type": "execute_result"
    }
   ],
   "source": [
    "rating_df = clean_df[(clean_df.star_rating != 0.0)]\n",
    "\n",
    "rating_df[\"star_rating\"].value_counts()"
   ]
  },
  {
   "cell_type": "markdown",
   "id": "a3ea6c42-3a85-4cff-80de-6cf22c89b19a",
   "metadata": {},
   "source": [
    "We can see that there are no longer ratings of 0.0 in the dataset.\n",
    "\n",
    "Next, we will visualize the dataset by grouping the dataset based on the ratings. Afterwards, we get the mean of the latest_price for each rating."
   ]
  },
  {
   "cell_type": "code",
   "execution_count": 65,
   "id": "8ff41718-6dfe-4a59-99cc-6882e890a72b",
   "metadata": {},
   "outputs": [],
   "source": [
    "graphrating_df = rating_df.groupby(\"star_rating\").agg({\"latest_price\": [\"mean\"]})"
   ]
  },
  {
   "cell_type": "code",
   "execution_count": 74,
   "id": "06c12b84-7523-4a49-94c6-c3a99109f50a",
   "metadata": {},
   "outputs": [
    {
     "data": {
      "text/plain": [
       "Text(0.5, 1.0, 'Laptop Price For Each Rating')"
      ]
     },
     "execution_count": 74,
     "metadata": {},
     "output_type": "execute_result"
    },
    {
     "data": {
      "image/png": "[encoded data removed]",
      "text/plain": [
       "<Figure size 864x1008 with 1 Axes>"
      ]
     },
     "metadata": {
      "needs_background": "light"
     },
     "output_type": "display_data"
    }
   ],
   "source": [
    "graphrating_df = graphrating_df.squeeze()\n",
    "graphrating_df\n",
    "graphrating_df.plot.barh(figsize=(12,14)).invert_yaxis()\n",
    "plt.ylabel('Rating')\n",
    "plt.xlabel('Price (Rupees)')\n",
    "plt.title('Laptop Price For Each Rating')"
   ]
  },
  {
   "cell_type": "markdown",
   "id": "1cd9e554-16ce-4af0-bde9-3995d16faf89",
   "metadata": {},
   "source": [
    "The horizontal graph above shows the mean price of laptops given a specific star rating. The most expensive laptops comes with the ratings of 4.8, 5.0 and 1.7. "
   ]
  },
  {
   "cell_type": "code",
   "execution_count": 16,
   "id": "5e0c376e-5ead-44a6-83c7-e2aae97ea227",
   "metadata": {},
   "outputs": [
    {
     "data": {
      "text/html": [
       "<div>\n",
       "<style scoped>\n",
       "    .dataframe tbody tr th:only-of-type {\n",
       "        vertical-align: middle;\n",
       "    }\n",
       "\n",
       "    .dataframe tbody tr th {\n",
       "        vertical-align: top;\n",
       "    }\n",
       "\n",
       "    .dataframe thead th {\n",
       "        text-align: right;\n",
       "    }\n",
       "</style>\n",
       "<table border=\"1\" class=\"dataframe\">\n",
       "  <thead>\n",
       "    <tr style=\"text-align: right;\">\n",
       "      <th></th>\n",
       "      <th>star_rating</th>\n",
       "      <th>latest_price</th>\n",
       "    </tr>\n",
       "  </thead>\n",
       "  <tbody>\n",
       "    <tr>\n",
       "      <th>star_rating</th>\n",
       "      <td>1.000000</td>\n",
       "      <td>0.301293</td>\n",
       "    </tr>\n",
       "    <tr>\n",
       "      <th>latest_price</th>\n",
       "      <td>0.301293</td>\n",
       "      <td>1.000000</td>\n",
       "    </tr>\n",
       "  </tbody>\n",
       "</table>\n",
       "</div>"
      ],
      "text/plain": [
       "              star_rating  latest_price\n",
       "star_rating      1.000000      0.301293\n",
       "latest_price     0.301293      1.000000"
      ]
     },
     "execution_count": 16,
     "metadata": {},
     "output_type": "execute_result"
    }
   ],
   "source": [
    "corr_df = rating_df[['star_rating','latest_price']]\n",
    "corr_df.corr()"
   ]
  },
  {
   "cell_type": "markdown",
   "id": "a69cd604-7843-46a7-ab34-2965947360f3",
   "metadata": {},
   "source": [
    "The correlation between star_rating and latest price is 0.301293. This shows that star_rating and latest price of the laptops have a positive relationship, which means that as star_rating increases, the latest_price also increases."
   ]
  },
  {
   "cell_type": "markdown",
   "id": "4e0a3229-75b2-4b03-9b72-4675d10067e5",
   "metadata": {},
   "source": [
    "Let us visualize the correlation through a scatter plot."
   ]
  },
  {
   "cell_type": "code",
   "execution_count": 17,
   "id": "44562cab-9619-408c-b6f6-c5175f6c63a6",
   "metadata": {},
   "outputs": [
    {
     "data": {
      "text/plain": [
       "<AxesSubplot:xlabel='star_rating', ylabel='latest_price'>"
      ]
     },
     "execution_count": 17,
     "metadata": {},
     "output_type": "execute_result"
    },
    {
     "data": {
      "image/png": "[encoded data removed]",
      "text/plain": [
       "<Figure size 432x288 with 1 Axes>"
      ]
     },
     "metadata": {
      "needs_background": "light"
     },
     "output_type": "display_data"
    }
   ],
   "source": [
    "corr_df.plot.scatter(x=\"star_rating\", y=\"latest_price\", alpha=0.5)"
   ]
  },
  {
   "cell_type": "markdown",
   "id": "848ad820-622f-4056-b43b-ce0f1f87fcaf",
   "metadata": {},
   "source": [
    "We can see that generally the price  goes higher as the ratings go higher."
   ]
  },
  {
   "cell_type": "markdown",
   "id": "f45af064-ed43-42f3-8341-323d85b55fd8",
   "metadata": {},
   "source": [
    "**2) What is the average rating of laptops for the most used processor brand vs the second most used processor brand?**"
   ]
  },
  {
   "cell_type": "markdown",
   "id": "4a6838af-973c-46dd-85ff-a4ee5f78858b",
   "metadata": {},
   "source": [
    "Let us first get the processor brands in the dataset."
   ]
  },
  {
   "cell_type": "code",
   "execution_count": 18,
   "id": "8f23a211-1987-40e8-8d58-58016bad15f9",
   "metadata": {},
   "outputs": [
    {
     "data": {
      "text/plain": [
       "Intel       647\n",
       "AMD         206\n",
       "M1           24\n",
       "MediaTek      3\n",
       "Qualcomm      1\n",
       "Name: processor_brand, dtype: int64"
      ]
     },
     "execution_count": 18,
     "metadata": {},
     "output_type": "execute_result"
    }
   ],
   "source": [
    "clean_df['processor_brand'].value_counts()"
   ]
  },
  {
   "cell_type": "markdown",
   "id": "e2ba750e-82d3-4c1a-b733-c348634f86a2",
   "metadata": {},
   "source": [
    "Afterwards, we need to remove laptops that does not use AMD or Intel for its processor."
   ]
  },
  {
   "cell_type": "code",
   "execution_count": 45,
   "id": "83a5d772-5642-4fa0-8553-77154b99dd0e",
   "metadata": {},
   "outputs": [
    {
     "data": {
      "text/html": [
       "<div>\n",
       "<style scoped>\n",
       "    .dataframe tbody tr th:only-of-type {\n",
       "        vertical-align: middle;\n",
       "    }\n",
       "\n",
       "    .dataframe tbody tr th {\n",
       "        vertical-align: top;\n",
       "    }\n",
       "\n",
       "    .dataframe thead th {\n",
       "        text-align: right;\n",
       "    }\n",
       "</style>\n",
       "<table border=\"1\" class=\"dataframe\">\n",
       "  <thead>\n",
       "    <tr style=\"text-align: right;\">\n",
       "      <th></th>\n",
       "      <th>brand</th>\n",
       "      <th>model</th>\n",
       "      <th>processor_brand</th>\n",
       "      <th>processor_name</th>\n",
       "      <th>processor_gnrtn</th>\n",
       "      <th>ram_gb</th>\n",
       "      <th>ram_type</th>\n",
       "      <th>ssd</th>\n",
       "      <th>hdd</th>\n",
       "      <th>os</th>\n",
       "      <th>...</th>\n",
       "      <th>display_size</th>\n",
       "      <th>warranty</th>\n",
       "      <th>Touchscreen</th>\n",
       "      <th>msoffice</th>\n",
       "      <th>latest_price</th>\n",
       "      <th>old_price</th>\n",
       "      <th>discount</th>\n",
       "      <th>star_rating</th>\n",
       "      <th>ratings</th>\n",
       "      <th>reviews</th>\n",
       "    </tr>\n",
       "  </thead>\n",
       "  <tbody>\n",
       "    <tr>\n",
       "      <th>0</th>\n",
       "      <td>Lenovo</td>\n",
       "      <td>A6-9225</td>\n",
       "      <td>AMD</td>\n",
       "      <td>A6-9225 Processor</td>\n",
       "      <td>10th</td>\n",
       "      <td>4 GB</td>\n",
       "      <td>DDR4</td>\n",
       "      <td>0 GB</td>\n",
       "      <td>1024 GB</td>\n",
       "      <td>Windows</td>\n",
       "      <td>...</td>\n",
       "      <td>Missing</td>\n",
       "      <td>0</td>\n",
       "      <td>No</td>\n",
       "      <td>No</td>\n",
       "      <td>24990</td>\n",
       "      <td>32790</td>\n",
       "      <td>23</td>\n",
       "      <td>3.7</td>\n",
       "      <td>63</td>\n",
       "      <td>12</td>\n",
       "    </tr>\n",
       "    <tr>\n",
       "      <th>1</th>\n",
       "      <td>Lenovo</td>\n",
       "      <td>Ideapad</td>\n",
       "      <td>AMD</td>\n",
       "      <td>APU Dual</td>\n",
       "      <td>10th</td>\n",
       "      <td>4 GB</td>\n",
       "      <td>DDR4</td>\n",
       "      <td>0 GB</td>\n",
       "      <td>512 GB</td>\n",
       "      <td>Windows</td>\n",
       "      <td>...</td>\n",
       "      <td>Missing</td>\n",
       "      <td>0</td>\n",
       "      <td>No</td>\n",
       "      <td>No</td>\n",
       "      <td>19590</td>\n",
       "      <td>21325</td>\n",
       "      <td>8</td>\n",
       "      <td>3.6</td>\n",
       "      <td>1894</td>\n",
       "      <td>256</td>\n",
       "    </tr>\n",
       "    <tr>\n",
       "      <th>2</th>\n",
       "      <td>Avita</td>\n",
       "      <td>PURA</td>\n",
       "      <td>AMD</td>\n",
       "      <td>APU Dual</td>\n",
       "      <td>10th</td>\n",
       "      <td>4 GB</td>\n",
       "      <td>DDR4</td>\n",
       "      <td>128 GB</td>\n",
       "      <td>0 GB</td>\n",
       "      <td>Windows</td>\n",
       "      <td>...</td>\n",
       "      <td>Missing</td>\n",
       "      <td>0</td>\n",
       "      <td>No</td>\n",
       "      <td>No</td>\n",
       "      <td>19990</td>\n",
       "      <td>27990</td>\n",
       "      <td>28</td>\n",
       "      <td>3.7</td>\n",
       "      <td>1153</td>\n",
       "      <td>159</td>\n",
       "    </tr>\n",
       "    <tr>\n",
       "      <th>3</th>\n",
       "      <td>Avita</td>\n",
       "      <td>PURA</td>\n",
       "      <td>AMD</td>\n",
       "      <td>APU Dual</td>\n",
       "      <td>10th</td>\n",
       "      <td>4 GB</td>\n",
       "      <td>DDR4</td>\n",
       "      <td>128 GB</td>\n",
       "      <td>0 GB</td>\n",
       "      <td>Windows</td>\n",
       "      <td>...</td>\n",
       "      <td>Missing</td>\n",
       "      <td>0</td>\n",
       "      <td>No</td>\n",
       "      <td>No</td>\n",
       "      <td>21490</td>\n",
       "      <td>27990</td>\n",
       "      <td>23</td>\n",
       "      <td>3.7</td>\n",
       "      <td>1153</td>\n",
       "      <td>159</td>\n",
       "    </tr>\n",
       "    <tr>\n",
       "      <th>4</th>\n",
       "      <td>Avita</td>\n",
       "      <td>PURA</td>\n",
       "      <td>AMD</td>\n",
       "      <td>APU Dual</td>\n",
       "      <td>10th</td>\n",
       "      <td>4 GB</td>\n",
       "      <td>DDR4</td>\n",
       "      <td>256 GB</td>\n",
       "      <td>0 GB</td>\n",
       "      <td>Windows</td>\n",
       "      <td>...</td>\n",
       "      <td>Missing</td>\n",
       "      <td>0</td>\n",
       "      <td>No</td>\n",
       "      <td>No</td>\n",
       "      <td>24990</td>\n",
       "      <td>33490</td>\n",
       "      <td>25</td>\n",
       "      <td>3.7</td>\n",
       "      <td>1657</td>\n",
       "      <td>234</td>\n",
       "    </tr>\n",
       "    <tr>\n",
       "      <th>...</th>\n",
       "      <td>...</td>\n",
       "      <td>...</td>\n",
       "      <td>...</td>\n",
       "      <td>...</td>\n",
       "      <td>...</td>\n",
       "      <td>...</td>\n",
       "      <td>...</td>\n",
       "      <td>...</td>\n",
       "      <td>...</td>\n",
       "      <td>...</td>\n",
       "      <td>...</td>\n",
       "      <td>...</td>\n",
       "      <td>...</td>\n",
       "      <td>...</td>\n",
       "      <td>...</td>\n",
       "      <td>...</td>\n",
       "      <td>...</td>\n",
       "      <td>...</td>\n",
       "      <td>...</td>\n",
       "      <td>...</td>\n",
       "      <td>...</td>\n",
       "    </tr>\n",
       "    <tr>\n",
       "      <th>890</th>\n",
       "      <td>ASUS</td>\n",
       "      <td>ROG</td>\n",
       "      <td>AMD</td>\n",
       "      <td>Ryzen 9</td>\n",
       "      <td>Missing</td>\n",
       "      <td>4 GB</td>\n",
       "      <td>DDR4</td>\n",
       "      <td>1024 GB</td>\n",
       "      <td>0 GB</td>\n",
       "      <td>Windows</td>\n",
       "      <td>...</td>\n",
       "      <td>16</td>\n",
       "      <td>1</td>\n",
       "      <td>No</td>\n",
       "      <td>No</td>\n",
       "      <td>135990</td>\n",
       "      <td>172990</td>\n",
       "      <td>21</td>\n",
       "      <td>0.0</td>\n",
       "      <td>0</td>\n",
       "      <td>0</td>\n",
       "    </tr>\n",
       "    <tr>\n",
       "      <th>891</th>\n",
       "      <td>ASUS</td>\n",
       "      <td>ROG</td>\n",
       "      <td>AMD</td>\n",
       "      <td>Ryzen 9</td>\n",
       "      <td>Missing</td>\n",
       "      <td>4 GB</td>\n",
       "      <td>DDR4</td>\n",
       "      <td>1024 GB</td>\n",
       "      <td>0 GB</td>\n",
       "      <td>Windows</td>\n",
       "      <td>...</td>\n",
       "      <td>16</td>\n",
       "      <td>1</td>\n",
       "      <td>No</td>\n",
       "      <td>No</td>\n",
       "      <td>144990</td>\n",
       "      <td>194990</td>\n",
       "      <td>25</td>\n",
       "      <td>0.0</td>\n",
       "      <td>0</td>\n",
       "      <td>0</td>\n",
       "    </tr>\n",
       "    <tr>\n",
       "      <th>892</th>\n",
       "      <td>ASUS</td>\n",
       "      <td>Ryzen</td>\n",
       "      <td>AMD</td>\n",
       "      <td>Ryzen 9</td>\n",
       "      <td>Missing</td>\n",
       "      <td>4 GB</td>\n",
       "      <td>DDR4</td>\n",
       "      <td>1024 GB</td>\n",
       "      <td>0 GB</td>\n",
       "      <td>Windows</td>\n",
       "      <td>...</td>\n",
       "      <td>Missing</td>\n",
       "      <td>1</td>\n",
       "      <td>No</td>\n",
       "      <td>No</td>\n",
       "      <td>149990</td>\n",
       "      <td>149990</td>\n",
       "      <td>0</td>\n",
       "      <td>0.0</td>\n",
       "      <td>0</td>\n",
       "      <td>0</td>\n",
       "    </tr>\n",
       "    <tr>\n",
       "      <th>893</th>\n",
       "      <td>ASUS</td>\n",
       "      <td>Ryzen</td>\n",
       "      <td>AMD</td>\n",
       "      <td>Ryzen 9</td>\n",
       "      <td>Missing</td>\n",
       "      <td>4 GB</td>\n",
       "      <td>DDR4</td>\n",
       "      <td>1024 GB</td>\n",
       "      <td>0 GB</td>\n",
       "      <td>Windows</td>\n",
       "      <td>...</td>\n",
       "      <td>16</td>\n",
       "      <td>1</td>\n",
       "      <td>No</td>\n",
       "      <td>No</td>\n",
       "      <td>142990</td>\n",
       "      <td>142990</td>\n",
       "      <td>0</td>\n",
       "      <td>0.0</td>\n",
       "      <td>0</td>\n",
       "      <td>0</td>\n",
       "    </tr>\n",
       "    <tr>\n",
       "      <th>895</th>\n",
       "      <td>Lenovo</td>\n",
       "      <td>Thinkpad</td>\n",
       "      <td>AMD</td>\n",
       "      <td>Ryzen 5</td>\n",
       "      <td>10th</td>\n",
       "      <td>8 GB</td>\n",
       "      <td>DDR4</td>\n",
       "      <td>512 GB</td>\n",
       "      <td>0 GB</td>\n",
       "      <td>DOS</td>\n",
       "      <td>...</td>\n",
       "      <td>14</td>\n",
       "      <td>0</td>\n",
       "      <td>No</td>\n",
       "      <td>No</td>\n",
       "      <td>57490</td>\n",
       "      <td>78400</td>\n",
       "      <td>26</td>\n",
       "      <td>4.2</td>\n",
       "      <td>18</td>\n",
       "      <td>4</td>\n",
       "    </tr>\n",
       "  </tbody>\n",
       "</table>\n",
       "<p>853 rows × 23 columns</p>\n",
       "</div>"
      ],
      "text/plain": [
       "      brand     model processor_brand     processor_name processor_gnrtn  \\\n",
       "0    Lenovo   A6-9225             AMD  A6-9225 Processor            10th   \n",
       "1    Lenovo   Ideapad             AMD           APU Dual            10th   \n",
       "2     Avita      PURA             AMD           APU Dual            10th   \n",
       "3     Avita      PURA             AMD           APU Dual            10th   \n",
       "4     Avita      PURA             AMD           APU Dual            10th   \n",
       "..      ...       ...             ...                ...             ...   \n",
       "890    ASUS       ROG             AMD            Ryzen 9         Missing   \n",
       "891    ASUS       ROG             AMD            Ryzen 9         Missing   \n",
       "892    ASUS     Ryzen             AMD            Ryzen 9         Missing   \n",
       "893    ASUS     Ryzen             AMD            Ryzen 9         Missing   \n",
       "895  Lenovo  Thinkpad             AMD            Ryzen 5            10th   \n",
       "\n",
       "    ram_gb ram_type      ssd      hdd       os  ... display_size  warranty  \\\n",
       "0     4 GB     DDR4     0 GB  1024 GB  Windows  ...      Missing         0   \n",
       "1     4 GB     DDR4     0 GB   512 GB  Windows  ...      Missing         0   \n",
       "2     4 GB     DDR4   128 GB     0 GB  Windows  ...      Missing         0   \n",
       "3     4 GB     DDR4   128 GB     0 GB  Windows  ...      Missing         0   \n",
       "4     4 GB     DDR4   256 GB     0 GB  Windows  ...      Missing         0   \n",
       "..     ...      ...      ...      ...      ...  ...          ...       ...   \n",
       "890   4 GB     DDR4  1024 GB     0 GB  Windows  ...           16         1   \n",
       "891   4 GB     DDR4  1024 GB     0 GB  Windows  ...           16         1   \n",
       "892   4 GB     DDR4  1024 GB     0 GB  Windows  ...      Missing         1   \n",
       "893   4 GB     DDR4  1024 GB     0 GB  Windows  ...           16         1   \n",
       "895   8 GB     DDR4   512 GB     0 GB      DOS  ...           14         0   \n",
       "\n",
       "    Touchscreen msoffice  latest_price old_price discount  star_rating  \\\n",
       "0            No       No         24990     32790       23          3.7   \n",
       "1            No       No         19590     21325        8          3.6   \n",
       "2            No       No         19990     27990       28          3.7   \n",
       "3            No       No         21490     27990       23          3.7   \n",
       "4            No       No         24990     33490       25          3.7   \n",
       "..          ...      ...           ...       ...      ...          ...   \n",
       "890          No       No        135990    172990       21          0.0   \n",
       "891          No       No        144990    194990       25          0.0   \n",
       "892          No       No        149990    149990        0          0.0   \n",
       "893          No       No        142990    142990        0          0.0   \n",
       "895          No       No         57490     78400       26          4.2   \n",
       "\n",
       "     ratings  reviews  \n",
       "0         63       12  \n",
       "1       1894      256  \n",
       "2       1153      159  \n",
       "3       1153      159  \n",
       "4       1657      234  \n",
       "..       ...      ...  \n",
       "890        0        0  \n",
       "891        0        0  \n",
       "892        0        0  \n",
       "893        0        0  \n",
       "895       18        4  \n",
       "\n",
       "[853 rows x 23 columns]"
      ]
     },
     "execution_count": 45,
     "metadata": {},
     "output_type": "execute_result"
    }
   ],
   "source": [
    "pbrand_df = clean_df[(clean_df.processor_brand == \"Intel\") | (clean_df.processor_brand == \"AMD\")]\n",
    "pbrand_df"
   ]
  },
  {
   "cell_type": "markdown",
   "id": "6cfab4a4-3bf6-45da-8fdb-c252a3853c67",
   "metadata": {},
   "source": [
    "Afterwards, we check all the star_ratings in the dataset."
   ]
  },
  {
   "cell_type": "code",
   "execution_count": 20,
   "id": "6165aa44-00e8-4b38-b26d-238ad3f82eb8",
   "metadata": {},
   "outputs": [
    {
     "data": {
      "text/plain": [
       "0.0    194\n",
       "4.3     69\n",
       "4.4     69\n",
       "4.2     48\n",
       "4.5     47\n",
       "4.0     30\n",
       "4.1     28\n",
       "3.9     22\n",
       "3.8     22\n",
       "4.6     21\n",
       "4.7     16\n",
       "5.0     13\n",
       "3.7     10\n",
       "3.4     10\n",
       "4.8      9\n",
       "3.6      8\n",
       "3.5      6\n",
       "3.3      6\n",
       "3.0      5\n",
       "3.2      3\n",
       "2.8      2\n",
       "4.9      2\n",
       "1.7      1\n",
       "1.6      1\n",
       "2.3      1\n",
       "2.9      1\n",
       "2.0      1\n",
       "3.1      1\n",
       "2.5      1\n",
       "Name: star_rating, dtype: int64"
      ]
     },
     "execution_count": 20,
     "metadata": {},
     "output_type": "execute_result"
    }
   ],
   "source": [
    "pbrand_df[\"star_rating\"].value_counts()"
   ]
  },
  {
   "cell_type": "markdown",
   "id": "32b12c05-a550-4191-aa87-590794c8f57e",
   "metadata": {},
   "source": [
    "We can see that there are laptops that have a rating of 0.0. \n",
    "\n",
    "We will remove it to prevent its effect on the mean."
   ]
  },
  {
   "cell_type": "code",
   "execution_count": 68,
   "id": "793012cd-49ef-4214-bfe9-289fe31f42c9",
   "metadata": {},
   "outputs": [
    {
     "data": {
      "text/plain": [
       "4.4    92\n",
       "4.3    83\n",
       "4.5    68\n",
       "4.2    63\n",
       "4.6    36\n",
       "4.1    36\n",
       "4.0    35\n",
       "3.8    26\n",
       "4.7    25\n",
       "3.9    24\n",
       "3.7    16\n",
       "5.0    15\n",
       "4.8    12\n",
       "3.4    10\n",
       "3.6     9\n",
       "3.3     8\n",
       "3.5     7\n",
       "3.0     7\n",
       "3.2     3\n",
       "2.8     3\n",
       "4.9     3\n",
       "3.1     2\n",
       "2.5     2\n",
       "2.3     1\n",
       "2.0     1\n",
       "2.9     1\n",
       "1.6     1\n",
       "1.7     1\n",
       "2.7     1\n",
       "Name: star_rating, dtype: int64"
      ]
     },
     "execution_count": 68,
     "metadata": {},
     "output_type": "execute_result"
    }
   ],
   "source": [
    "pbrand_df = pbrand_df[(pbrand_df.star_rating != 0.0)]\n",
    "pbrand_df[\"star_rating\"].value_counts()"
   ]
  },
  {
   "cell_type": "markdown",
   "id": "ea9501fb-31df-4274-acd5-95a83f64b0b7",
   "metadata": {},
   "source": [
    "Now that we have successfully removed the rating of 0.0, we can now visualize the dataset.\n",
    "\n",
    "Since we are comparing Intel vs AMD, we will group the dataset by processor_brand. Then, we get the mean star_rating for each."
   ]
  },
  {
   "cell_type": "code",
   "execution_count": 75,
   "id": "cb87b5dd-ab97-4020-972f-27442a0d01cb",
   "metadata": {},
   "outputs": [
    {
     "data": {
      "text/plain": [
       "Text(0.5, 1.0, 'Laptop Rating For Intel vs AMD')"
      ]
     },
     "execution_count": 75,
     "metadata": {},
     "output_type": "execute_result"
    },
    {
     "data": {
      "image/png": "[encoded data removed]",
      "text/plain": [
       "<Figure size 864x360 with 1 Axes>"
      ]
     },
     "metadata": {
      "needs_background": "light"
     },
     "output_type": "display_data"
    }
   ],
   "source": [
    "pmean_df = pbrand_df.groupby(\"processor_brand\").agg({\"star_rating\": [\"mean\"]})\n",
    "pmean_df = pmean_df.squeeze()\n",
    "pmean_df\n",
    "pmean_df.plot.barh(figsize=(12,5)).invert_yaxis()\n",
    "plt.ylabel('Processor Brand')\n",
    "plt.xlabel('Star Rating')\n",
    "plt.title('Laptop Rating For Intel vs AMD')"
   ]
  },
  {
   "cell_type": "markdown",
   "id": "f2c0492f-5f46-4ecb-8e21-5ba117247981",
   "metadata": {},
   "source": [
    "We can see that the average star rating of AMD laptops is a little higher than the average star rating of Intel laptops."
   ]
  },
  {
   "cell_type": "markdown",
   "id": "ec559db6-1fb0-4ac9-bc3f-8e5ea4a3b2e4",
   "metadata": {},
   "source": [
    "**3) What is the average rating of laptops for each processor of Intel and AMD?**"
   ]
  },
  {
   "cell_type": "markdown",
   "id": "07c8586a-9683-4a82-a30f-8f2106ce8c76",
   "metadata": {},
   "source": [
    "Let us get all the processor brands in the dataset."
   ]
  },
  {
   "cell_type": "code",
   "execution_count": 54,
   "id": "01e0ccf2-a59c-4d59-8350-5a79842ede21",
   "metadata": {},
   "outputs": [
    {
     "data": {
      "text/plain": [
       "Intel       647\n",
       "AMD         206\n",
       "M1           24\n",
       "MediaTek      3\n",
       "Qualcomm      1\n",
       "Name: processor_brand, dtype: int64"
      ]
     },
     "execution_count": 54,
     "metadata": {},
     "output_type": "execute_result"
    }
   ],
   "source": [
    "clean_df[\"processor_brand\"].value_counts()"
   ]
  },
  {
   "cell_type": "markdown",
   "id": "acbd7ebb-2f91-4c39-be55-5ab4cbddff06",
   "metadata": {},
   "source": [
    "Next, we remove the processor brands that are not Intel or AMD."
   ]
  },
  {
   "cell_type": "code",
   "execution_count": 55,
   "id": "4f4fe9b3-a620-481c-90de-01e195173e7b",
   "metadata": {},
   "outputs": [
    {
     "data": {
      "text/plain": [
       "Intel    647\n",
       "AMD      206\n",
       "Name: processor_brand, dtype: int64"
      ]
     },
     "execution_count": 55,
     "metadata": {},
     "output_type": "execute_result"
    }
   ],
   "source": [
    "pname_df = clean_df[(clean_df.processor_brand == \"Intel\") | (clean_df.processor_brand == \"AMD\")]\n",
    "pname_df[\"processor_brand\"].value_counts()"
   ]
  },
  {
   "cell_type": "markdown",
   "id": "8e61e9c5-cc4f-44cc-9107-86ac03b54ea3",
   "metadata": {},
   "source": [
    "Now that we have removed them, let us get all the values of star_rating in the dataset."
   ]
  },
  {
   "cell_type": "code",
   "execution_count": 56,
   "id": "7e5479b6-554f-4be5-8a39-f56811f295ad",
   "metadata": {},
   "outputs": [
    {
     "data": {
      "text/plain": [
       "0.0    262\n",
       "4.4     92\n",
       "4.3     83\n",
       "4.5     68\n",
       "4.2     63\n",
       "4.6     36\n",
       "4.1     36\n",
       "4.0     35\n",
       "3.8     26\n",
       "4.7     25\n",
       "3.9     24\n",
       "3.7     16\n",
       "5.0     15\n",
       "4.8     12\n",
       "3.4     10\n",
       "3.6      9\n",
       "3.3      8\n",
       "3.5      7\n",
       "3.0      7\n",
       "3.2      3\n",
       "2.8      3\n",
       "4.9      3\n",
       "3.1      2\n",
       "2.5      2\n",
       "2.3      1\n",
       "2.0      1\n",
       "2.9      1\n",
       "1.6      1\n",
       "1.7      1\n",
       "2.7      1\n",
       "Name: star_rating, dtype: int64"
      ]
     },
     "execution_count": 56,
     "metadata": {},
     "output_type": "execute_result"
    }
   ],
   "source": [
    "pname_df[\"star_rating\"].value_counts()"
   ]
  },
  {
   "cell_type": "markdown",
   "id": "28b8f439-9a25-465e-9dab-2614e4c818f8",
   "metadata": {},
   "source": [
    "We can see that there are ratings of 0.0 in the dataset. Let us remove it to prevent it effecting the mean later on."
   ]
  },
  {
   "cell_type": "code",
   "execution_count": 58,
   "id": "84c8d1d9-6afc-43d1-9aab-df4a5011529a",
   "metadata": {},
   "outputs": [
    {
     "data": {
      "text/plain": [
       "4.4    92\n",
       "4.3    83\n",
       "4.5    68\n",
       "4.2    63\n",
       "4.6    36\n",
       "4.1    36\n",
       "4.0    35\n",
       "3.8    26\n",
       "4.7    25\n",
       "3.9    24\n",
       "3.7    16\n",
       "5.0    15\n",
       "4.8    12\n",
       "3.4    10\n",
       "3.6     9\n",
       "3.3     8\n",
       "3.5     7\n",
       "3.0     7\n",
       "3.2     3\n",
       "2.8     3\n",
       "4.9     3\n",
       "3.1     2\n",
       "2.5     2\n",
       "2.3     1\n",
       "2.0     1\n",
       "2.9     1\n",
       "1.6     1\n",
       "1.7     1\n",
       "2.7     1\n",
       "Name: star_rating, dtype: int64"
      ]
     },
     "execution_count": 58,
     "metadata": {},
     "output_type": "execute_result"
    }
   ],
   "source": [
    "rating_df = pname_df[(pname_df.star_rating != 0.0)]\n",
    "rating_df[\"star_rating\"].value_counts()"
   ]
  },
  {
   "cell_type": "markdown",
   "id": "f8fcc5d7-80e2-40bf-8fec-c9d2ce90cb5f",
   "metadata": {},
   "source": [
    "Now that we have removed it, we can now visualize the dataset.\n",
    "\n",
    "Since we are to compare the mean star_rating of each type of processor of Intel and AMD, we will group the dataset by processor name. Then, we get the mean star rating of each processor."
   ]
  },
  {
   "cell_type": "code",
   "execution_count": 76,
   "id": "6b7fecf4-4f0c-4599-a25e-dfabb225502b",
   "metadata": {},
   "outputs": [
    {
     "data": {
      "text/plain": [
       "Text(0.5, 1.0, 'Laptop Rating For Intel and AMD Processors')"
      ]
     },
     "execution_count": 76,
     "metadata": {},
     "output_type": "execute_result"
    },
    {
     "data": {
      "image/png": "[encoded data removed]",
      "text/plain": [
       "<Figure size 1080x720 with 1 Axes>"
      ]
     },
     "metadata": {
      "needs_background": "light"
     },
     "output_type": "display_data"
    }
   ],
   "source": [
    "mean_df = rating_df.groupby(\"processor_name\").agg({\"star_rating\": [\"mean\"]})\n",
    "mean_df = mean_df.squeeze()\n",
    "mean_df\n",
    "mean_df.plot.barh(figsize=(15,10)).invert_yaxis()\n",
    "plt.ylabel('Processor Name')\n",
    "plt.xlabel('Star Rating')\n",
    "plt.title('Laptop Rating For Intel and AMD Processors')"
   ]
  },
  {
   "cell_type": "markdown",
   "id": "ccba6843-6e01-4479-9267-296918cae92e",
   "metadata": {},
   "source": [
    "From the graph, we can see the average star_rating of each processor. We can see that the processors with the highest rating are Core i9, Ryzen 9, and Hexa Core. On the other hand, the processors with the lowest star rating are Core m3, Celeron Dual, and A6-9225 Processor."
   ]
  },
  {
   "cell_type": "markdown",
   "id": "6ca4299b-8257-4576-9e27-e28499aeae2f",
   "metadata": {},
   "source": [
    "**Research Question**"
   ]
  },
  {
   "cell_type": "markdown",
   "id": "f18a14b6-a482-480b-a0e2-ed73542cb2ca",
   "metadata": {},
   "source": [
    "After performing all the exploratory data analysis, we were intrigued by what could possibly cause the differences in the star ratings of the laptops. \n",
    "\n",
    "This lead us to come up with the following research question: What are the most influential factors for the star rating of a laptop?"
   ]
  },
  {
   "cell_type": "markdown",
   "id": "d5cdf981-e2c4-474e-916f-438276106361",
   "metadata": {},
   "source": [
    "From the EDAs performed above, we saw possible factors that could influence the star rating of a laptop. \n",
    "\n",
    "The first EDA showed that there is a positive correlation between the price of the laptop and its rating. The second EDA showed that the star rating of AMD vs Intel laptops are not that far apart. The third EDA showed that the star rating of laptops varies from one another based on the processor. However, there are still other factors that could affect the star ratings of the laptop."
   ]
  },
  {
   "cell_type": "code",
   "execution_count": null,
   "id": "4e38cb73-a850-40a3-a05e-8d68db0e18e7",
   "metadata": {},
   "outputs": [],
   "source": []
  }
 ],
 "metadata": {
  "kernelspec": {
   "display_name": "Python 3 (ipykernel)",
   "language": "python",
   "name": "python3"
  },
  "language_info": {
   "codemirror_mode": {
    "name": "ipython",
    "version": 3
   },
   "file_extension": ".py",
   "mimetype": "text/x-python",
   "name": "python",
   "nbconvert_exporter": "python",
   "pygments_lexer": "ipython3",
   "version": "3.9.12"
  }
 },
 "nbformat": 4,
 "nbformat_minor": 5
}
