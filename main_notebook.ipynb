{
 "cells": [
  {
   "cell_type": "markdown",
   "id": "52b17a6d-5067-4fbf-89d9-65bc602a5b60",
   "metadata": {},
   "source": [
    "# Dataset Description"
   ]
  },
  {
   "cell_type": "markdown",
   "id": "b011776b-5624-4246-ad3f-a8e186555412",
   "metadata": {},
   "source": [
    " **Dataset: Laptop Specs and Latest Price By Santosh Kumar (2022)**"
   ]
  },
  {
   "cell_type": "markdown",
   "id": "b6cbf2e7-7154-4bd5-9e63-e77c68834cdd",
   "metadata": {},
   "source": [
    "**Brief Overview**\n",
    "\n",
    "**The dataset illustrates the factors that influence the prices of laptops**\n",
    "\n",
    "* Several different factors can affect laptop computer prices. These factors include the brand of computer and the number of options and add-ons included in the computer package. In addition, the amount of memory and the speed of the processor can also affect pricing. Though less common, some consumers spend additional money to purchase a computer based on the overall “look” and design of the system.\n",
    "\n",
    "* In many cases, name brand computers are more expensive than generic versions. This price increase often has more to do with name recognition than any actual superiority of the product. One major difference between name brand and generic systems is that in most cases, name brand computers offer better warranties than generic versions. Having the option of returning a computer that is malfunctioning is often enough of an incentive to encourage many consumers to spend more money.\n",
    "\n",
    "* Functionality is an important factor in determining laptop computer prices. A computer with more memory often performs better for a longer time than a computer with less memory. In addition, hard drive space is also crucial, and the size of the hard drive usually affects pricing. Many consumers may also look for digital video drivers and other types of recording devices that may affect the laptop computer prices.\n",
    "\n",
    "* Most computers come with some software pre-installed. In most cases, the more software that is installed on a computer, the more expensive it is. This is especially true if the installed programs are from well-established and recognizable software publishers. Those considering purchasing a new laptop computer should be aware that many of the pre-installed programs may be trial versions only, and will expire within a certain time period. In order to keep the programs, a code will need to be purchased, and then a permanent version of the software can be downloaded.\n",
    "\n",
    "* Many consumers who are purchasing a new computer are buying an entire package. In addition to the computer itself, these systems typically include a monitor, keyboard, and mouse. Some packages may even include a printer or digital camera. The number of extras included in a computer package usually affects laptop computer prices.\n",
    "\n",
    "* Some industry leaders in computer manufacturing make it a selling point to offer computers in sleek styling and in a variety of colors. They may also offer unusual or contemporary system design. Though this is less important to many consumers, for those who do value “looks,” this type of system may be well worth the extra cost."
   ]
  },
  {
   "cell_type": "markdown",
   "id": "eaf1a433-8b7e-4c9d-990a-10bd7348b4a2",
   "metadata": {},
   "source": [
    "**Collection Process**\n",
    "\n",
    "The data was gathered from flipkart.com in which an automated chrome web extension tool called Instant Data Scrapper was utilized. Instant Data Scraper extracts data from web pages and exports it as Excel or CSV files. It is an automated data extraction tool for any website. It utilizes an AI to predict which data is most relevant on a HTML page. \n",
    "\n",
    "The tool does not require scripts. It uses heuristic AI analysis of HTML structure to detect data for extraction. If the prediction is not satisfactory, it lets the user customize the selections for greater accuracy. Data scraping works just as well for small to much larger and known website such as Amazon.\n",
    "\n",
    "Since the data is solely relying on listings from flipkart.com, it does not capture the total representative of laptops being sold through different means or channels. \n",
    "Because of this, the prices in which these laptops are being sold at may be higher or lower depending on the seller. Moreover, the packages included in the purchase such as the warranty, software installed, and other peripherals may or may not be greater than if it were bought through another channel. Moreover it is an Indian ecommerce website. Because of this, the laptop prices gathered are following their usual prices and also influenced by the Indian rupees. Therefore, generated insights and conclusions may not be fully applicable for every laptop that is being sold around the world.  "
   ]
  },
  {
   "cell_type": "markdown",
   "id": "2057d93e-6e52-413d-a4ab-51b8d1a542b4",
   "metadata": {},
   "source": [
    "**Structure of the Dataset**\n",
    "\n",
    "The dataset presents different laptops and their characteristics. Each row is equivalent to a single laptop that is listed by a seller on flipkart.com. There are 896 rows on the dataset which means that the number of laptops gathered for the dataset is precisely 896 aswell. On the other hand, there are 23 columns on the dataset. Each column represents a specific attribute or variable of a laptop. \n",
    "\n",
    "**Description of each variable**\n",
    "* **brand**- refers to how the laptop is publicly distinguished from those manufactured by other companies\n",
    "* **model**- the particular version or design of a laptop from a given manufacturer\n",
    "* **processor_brand**- refers to how the laptop's processor is publicly distinguished from those manufactured by other companies\n",
    "* **processor_name**- refers to the specific processor of the laptop\n",
    "* **processor_gnrtn**- refers to the generation number of the laptop's processor\n",
    "* **ram_gb**- refers to the total RAM of the laptop in GB\n",
    "* **ram_type**- refers to the type of the laptop's RAM\n",
    "* **ssd**- refers to the capacity of the laptop's SSD\n",
    "* **hdd**- refers to the capacity of the laptop's HDD\n",
    "* **os**- refers to the operating system of the laptop\n",
    "* **os_bit**- determines whether the OS is 32-bit or 64-bit\n",
    "* **graphic_card_gb**- refers to the video memory of the laptop in GB\n",
    "* **weight**- refers to the weight classification of the laptop\n",
    "* **display_size**- refers to the diagonal length of the laptop's screen in inches\n",
    "* **warranty**- refers to the warranty in years\n",
    "* **touchscreeen**- determines whether or not the laptop has touchscreen capabilities\n",
    "* **msoffice**- if the laptop comes preinstalled with msoffice\n",
    "* **latest-price**- latest price in Indian Rupees\n",
    "* **old_price**- original price in Indian Rupees\n",
    "* **discount**- the discount in % applied to the old_price\n",
    "* **star_rating**- refers to the average star rating to the product wherein 0 is the lowest and 5 is the highest\n",
    "* **ratings**- refers to the total number of ratings given by buyers\n",
    "* **reviews**- refers to the total number of reviews written by buyers"
   ]
  },
  {
   "cell_type": "markdown",
   "id": "09c57203-d17a-4029-8673-07fbbc4a8565",
   "metadata": {},
   "source": [
    "## Data Cleaning"
   ]
  },
  {
   "cell_type": "markdown",
   "id": "5d02d925-5cb4-4029-b388-b7c6d27e7d30",
   "metadata": {},
   "source": [
    "Among all the variables, only one variable, which is namely: \"processor_name\", showed major inconsistencies with its data representation. Some cells were quite ambiguous or too broad with its naming. An example of this is a processor name of \"Ryzen\" and \"Core\". The issue here is that there are too many cpu's under those categories. Because of this, those observations are going to be dropped. From a total of 896 observations, the dataset was reduced to 881 observations after cleaning the variable. Moving on to the lesser issues is the formatting of the variable \"ram_gb\". Each one is accompanied by 2 \"GB\" following the value. An example of this is \"4 GB GB\", \" 8 GB GB\" and so on. This is not as much of an issue since the whole dataset is formatted in a similar way. However, it is still modified in this notebook to make the data more elegant. Lastly, some values of the variable \"old_price\" are set to 0. This occurs whenever no discount is available. Because of this, its price had always been the value of \"latest_price\". However to avoid confusion it is better to set the value equal to the \"latest_price\" as well which is what has been done in the notebook. "
   ]
  },
  {
   "cell_type": "code",
   "execution_count": null,
   "id": "ec2d89fc-3047-4370-89af-79fdaf670f35",
   "metadata": {},
   "outputs": [],
   "source": [
    "import numpy as py\n",
    "import pandas as pd\n",
    "import matplotlib.pyplot as plt\n",
    "laptop_df = pd.read_csv(\"Laptop_data.csv\")\n",
    "laptop_df.head(10)"
   ]
  },
  {
   "cell_type": "code",
   "execution_count": null,
   "id": "35647f81-bb8c-4c9a-89f8-42387838d09c",
   "metadata": {},
   "outputs": [],
   "source": [
    "laptop_df.info()"
   ]
  },
  {
   "cell_type": "code",
   "execution_count": null,
   "id": "80685a5e-60ac-4465-81a6-27fc9b1a8274",
   "metadata": {},
   "outputs": [],
   "source": [
    "laptop_df['processor_name'].value_counts()"
   ]
  },
  {
   "cell_type": "code",
   "execution_count": null,
   "id": "c8fc8bd0-6920-4beb-8a71-f6689a9e9e16",
   "metadata": {},
   "outputs": [],
   "source": [
    "laptop_df.shape"
   ]
  },
  {
   "cell_type": "code",
   "execution_count": null,
   "id": "42fb4fa5-2c13-4609-beca-5b18b89a3218",
   "metadata": {},
   "outputs": [],
   "source": [
    "clean_df = laptop_df\n",
    "clean_df = laptop_df[(laptop_df.processor_name != \"Ryzen\") & (laptop_df.processor_name != \"Core\") & (laptop_df.processor_name != \"GEFORCE RTX\") & (laptop_df.processor_name != \"GeForce GTX\") & (laptop_df.processor_name != \"GeForce RTX\") & (laptop_df.processor_name != \"Quad\") & (laptop_df.processor_name != \"Ever Screenpad\") & (laptop_df.processor_name != \"Genuine Windows\")]\n",
    "clean_df.shape"
   ]
  },
  {
   "cell_type": "code",
   "execution_count": null,
   "id": "9fc7ce82-c480-406f-bffc-ab58c6e23461",
   "metadata": {},
   "outputs": [],
   "source": [
    "clean_df['processor_name'].value_counts()"
   ]
  },
  {
   "cell_type": "code",
   "execution_count": null,
   "id": "d33dfc1f-3fcc-44a7-978d-341e03db2c88",
   "metadata": {},
   "outputs": [],
   "source": [
    "clean_df['ram_gb'].unique()"
   ]
  },
  {
   "cell_type": "code",
   "execution_count": null,
   "id": "60ae3905-d9af-484f-bd7c-2b5b7de60c8f",
   "metadata": {},
   "outputs": [],
   "source": [
    "clean_df['ram_gb'] = clean_df['ram_gb'].replace({'4 GB GB':'4 GB', '8 GB GB':'8 GB', '32 GB GB':'32 GB', '16 GB GB':'16 GB'})\n",
    "clean_df['ram_gb'].unique()"
   ]
  },
  {
   "cell_type": "code",
   "execution_count": null,
   "id": "5543851f-dcc9-4c88-a538-cbf26757f0ce",
   "metadata": {},
   "outputs": [],
   "source": [
    "clean_df['old_price'].value_counts()"
   ]
  },
  {
   "cell_type": "code",
   "execution_count": null,
   "id": "1ede000f-6568-48ee-90df-a98668a11575",
   "metadata": {},
   "outputs": [],
   "source": [
    "clean_df.loc[clean_df['old_price'] == 0,'old_price'] = clean_df.latest_price\n",
    "clean_df.loc[clean_df['old_price'] == clean_df.latest_price,'old_price'].shape"
   ]
  },
  {
   "cell_type": "code",
   "execution_count": null,
   "id": "770fc378-cfc6-4810-9954-4c2099a334c7",
   "metadata": {},
   "outputs": [],
   "source": [
    "clean_df.to_csv('laptop_cleaned.csv')"
   ]
  },
  {
   "cell_type": "markdown",
   "id": "bb51276b-365e-4073-bc63-ab8d7256cee3",
   "metadata": {},
   "source": [
    "**Exploratory Data Analysis**"
   ]
  },
  {
   "cell_type": "markdown",
   "id": "11bf21c4-baa8-4f95-a3c1-f34e193b0222",
   "metadata": {},
   "source": [
    " **1) What is the relationship between the star rating of the laptops and its price?**"
   ]
  },
  {
   "cell_type": "markdown",
   "id": "77a13bec-aed8-44a6-9fd3-04f52d1b10e8",
   "metadata": {},
   "source": [
    "Let us get all of the ratings in the dataset."
   ]
  },
  {
   "cell_type": "code",
   "execution_count": null,
   "id": "fcabf9be-5513-4ecc-832b-cd133c429aa5",
   "metadata": {},
   "outputs": [],
   "source": [
    "clean_df[\"star_rating\"].value_counts()"
   ]
  },
  {
   "cell_type": "markdown",
   "id": "340593cb-78ad-450c-a6b7-51d4fa3d0e09",
   "metadata": {
    "tags": []
   },
   "source": [
    "We see that there are laptops which have a rating of 0.0.\n",
    "\n",
    "Next, we filter out the laptops with a rating of 0.0 to prevent its effect on the mean."
   ]
  },
  {
   "cell_type": "code",
   "execution_count": null,
   "id": "5199908e-24e8-488c-bf12-03ceadb3ef89",
   "metadata": {},
   "outputs": [],
   "source": [
    "rating_df = clean_df[(clean_df.star_rating != 0.0)]\n",
    "\n",
    "rating_df[\"star_rating\"].value_counts()"
   ]
  },
  {
   "cell_type": "markdown",
   "id": "a3ea6c42-3a85-4cff-80de-6cf22c89b19a",
   "metadata": {},
   "source": [
    "We can see that there are no longer ratings of 0.0 in the dataset.\n",
    "\n",
    "Next, we will visualize the dataset by grouping the dataset based on the ratings. Afterwards, we get the mean of the latest_price for each rating."
   ]
  },
  {
   "cell_type": "code",
   "execution_count": null,
   "id": "8ff41718-6dfe-4a59-99cc-6882e890a72b",
   "metadata": {},
   "outputs": [],
   "source": [
    "graphrating_df = rating_df.groupby(\"star_rating\").agg({\"latest_price\": [\"mean\"]})"
   ]
  },
  {
   "cell_type": "code",
   "execution_count": null,
   "id": "06c12b84-7523-4a49-94c6-c3a99109f50a",
   "metadata": {},
   "outputs": [],
   "source": [
    "graphrating_df = graphrating_df.squeeze()\n",
    "graphrating_df\n",
    "graphrating_df.plot.barh(figsize=(12,14)).invert_yaxis()\n",
    "plt.ylabel('Rating')\n",
    "plt.xlabel('Price (Rupees)')\n",
    "plt.title('Laptop Price For Each Rating')"
   ]
  },
  {
   "cell_type": "markdown",
   "id": "1cd9e554-16ce-4af0-bde9-3995d16faf89",
   "metadata": {},
   "source": [
    "The horizontal graph above shows the mean price of laptops given a specific star rating. The most expensive laptops comes with the ratings of 4.8, 5.0 and 1.7. "
   ]
  },
  {
   "cell_type": "code",
   "execution_count": null,
   "id": "5e0c376e-5ead-44a6-83c7-e2aae97ea227",
   "metadata": {},
   "outputs": [],
   "source": [
    "corr_df = rating_df[['star_rating','latest_price']]\n",
    "corr_df.corr()"
   ]
  },
  {
   "cell_type": "markdown",
   "id": "a69cd604-7843-46a7-ab34-2965947360f3",
   "metadata": {},
   "source": [
    "The correlation between star_rating and latest price is 0.301293. This shows that star_rating and latest price of the laptops have a positive relationship, which means that as star_rating increases, the latest_price also increases."
   ]
  },
  {
   "cell_type": "markdown",
   "id": "4e0a3229-75b2-4b03-9b72-4675d10067e5",
   "metadata": {},
   "source": [
    "Let us visualize the correlation through a scatter plot."
   ]
  },
  {
   "cell_type": "code",
   "execution_count": null,
   "id": "44562cab-9619-408c-b6f6-c5175f6c63a6",
   "metadata": {},
   "outputs": [],
   "source": [
    "corr_df.plot.scatter(x=\"star_rating\", y=\"latest_price\", alpha=0.5)"
   ]
  },
  {
   "cell_type": "markdown",
   "id": "848ad820-622f-4056-b43b-ce0f1f87fcaf",
   "metadata": {},
   "source": [
    "We can see that generally the price  goes higher as the ratings go higher."
   ]
  },
  {
   "cell_type": "markdown",
   "id": "f45af064-ed43-42f3-8341-323d85b55fd8",
   "metadata": {},
   "source": [
    "**2) What is the average rating of laptops for the most used processor brand vs the second most used processor brand?**"
   ]
  },
  {
   "cell_type": "markdown",
   "id": "4a6838af-973c-46dd-85ff-a4ee5f78858b",
   "metadata": {},
   "source": [
    "Let us first get the processor brands in the dataset."
   ]
  },
  {
   "cell_type": "code",
   "execution_count": null,
   "id": "8f23a211-1987-40e8-8d58-58016bad15f9",
   "metadata": {},
   "outputs": [],
   "source": [
    "clean_df['processor_brand'].value_counts()"
   ]
  },
  {
   "cell_type": "markdown",
   "id": "e2ba750e-82d3-4c1a-b733-c348634f86a2",
   "metadata": {},
   "source": [
    "Afterwards, we need to remove laptops that does not use AMD or Intel for its processor."
   ]
  },
  {
   "cell_type": "code",
   "execution_count": null,
   "id": "83a5d772-5642-4fa0-8553-77154b99dd0e",
   "metadata": {},
   "outputs": [],
   "source": [
    "pbrand_df = clean_df[(clean_df.processor_brand == \"Intel\") | (clean_df.processor_brand == \"AMD\")]\n",
    "pbrand_df"
   ]
  },
  {
   "cell_type": "markdown",
   "id": "6cfab4a4-3bf6-45da-8fdb-c252a3853c67",
   "metadata": {},
   "source": [
    "Afterwards, we check all the star_ratings in the dataset."
   ]
  },
  {
   "cell_type": "code",
   "execution_count": null,
   "id": "6165aa44-00e8-4b38-b26d-238ad3f82eb8",
   "metadata": {},
   "outputs": [],
   "source": [
    "pbrand_df[\"star_rating\"].value_counts()"
   ]
  },
  {
   "cell_type": "markdown",
   "id": "32b12c05-a550-4191-aa87-590794c8f57e",
   "metadata": {},
   "source": [
    "We can see that there are laptops that have a rating of 0.0. \n",
    "\n",
    "We will remove it to prevent its effect on the mean."
   ]
  },
  {
   "cell_type": "code",
   "execution_count": null,
   "id": "793012cd-49ef-4214-bfe9-289fe31f42c9",
   "metadata": {},
   "outputs": [],
   "source": [
    "pbrand_df = pbrand_df[(pbrand_df.star_rating != 0.0)]\n",
    "pbrand_df[\"star_rating\"].value_counts()"
   ]
  },
  {
   "cell_type": "markdown",
   "id": "ea9501fb-31df-4274-acd5-95a83f64b0b7",
   "metadata": {},
   "source": [
    "Now that we have successfully removed the rating of 0.0, we can now visualize the dataset.\n",
    "\n",
    "Since we are comparing Intel vs AMD, we will group the dataset by processor_brand. Then, we get the mean star_rating for each."
   ]
  },
  {
   "cell_type": "code",
   "execution_count": null,
   "id": "cb87b5dd-ab97-4020-972f-27442a0d01cb",
   "metadata": {},
   "outputs": [],
   "source": [
    "pmean_df = pbrand_df.groupby(\"processor_brand\").agg({\"star_rating\": [\"mean\"]})\n",
    "pmean_df = pmean_df.squeeze()\n",
    "pmean_df\n",
    "pmean_df.plot.barh(figsize=(12,5)).invert_yaxis()\n",
    "plt.ylabel('Processor Brand')\n",
    "plt.xlabel('Star Rating')\n",
    "plt.title('Laptop Rating For Intel vs AMD')"
   ]
  },
  {
   "cell_type": "markdown",
   "id": "f2c0492f-5f46-4ecb-8e21-5ba117247981",
   "metadata": {},
   "source": [
    "We can see that the average star rating of AMD laptops is a little higher than the average star rating of Intel laptops."
   ]
  },
  {
   "cell_type": "markdown",
   "id": "ec559db6-1fb0-4ac9-bc3f-8e5ea4a3b2e4",
   "metadata": {},
   "source": [
    "**3) What is the average rating of laptops for each processor of Intel and AMD?**"
   ]
  },
  {
   "cell_type": "markdown",
   "id": "07c8586a-9683-4a82-a30f-8f2106ce8c76",
   "metadata": {},
   "source": [
    "Let us get all the processor brands in the dataset."
   ]
  },
  {
   "cell_type": "code",
   "execution_count": null,
   "id": "01e0ccf2-a59c-4d59-8350-5a79842ede21",
   "metadata": {},
   "outputs": [],
   "source": [
    "clean_df[\"processor_brand\"].value_counts()"
   ]
  },
  {
   "cell_type": "markdown",
   "id": "acbd7ebb-2f91-4c39-be55-5ab4cbddff06",
   "metadata": {},
   "source": [
    "Next, we remove the processor brands that are not Intel or AMD."
   ]
  },
  {
   "cell_type": "code",
   "execution_count": null,
   "id": "4f4fe9b3-a620-481c-90de-01e195173e7b",
   "metadata": {},
   "outputs": [],
   "source": [
    "pname_df = clean_df[(clean_df.processor_brand == \"Intel\") | (clean_df.processor_brand == \"AMD\")]\n",
    "pname_df[\"processor_brand\"].value_counts()"
   ]
  },
  {
   "cell_type": "markdown",
   "id": "8e61e9c5-cc4f-44cc-9107-86ac03b54ea3",
   "metadata": {},
   "source": [
    "Now that we have removed them, let us get all the values of star_rating in the dataset."
   ]
  },
  {
   "cell_type": "code",
   "execution_count": null,
   "id": "7e5479b6-554f-4be5-8a39-f56811f295ad",
   "metadata": {},
   "outputs": [],
   "source": [
    "pname_df[\"star_rating\"].value_counts()"
   ]
  },
  {
   "cell_type": "markdown",
   "id": "28b8f439-9a25-465e-9dab-2614e4c818f8",
   "metadata": {},
   "source": [
    "We can see that there are ratings of 0.0 in the dataset. Let us remove it to prevent it effecting the mean later on."
   ]
  },
  {
   "cell_type": "code",
   "execution_count": null,
   "id": "84c8d1d9-6afc-43d1-9aab-df4a5011529a",
   "metadata": {},
   "outputs": [],
   "source": [
    "rating_df = pname_df[(pname_df.star_rating != 0.0)]\n",
    "rating_df[\"star_rating\"].value_counts()"
   ]
  },
  {
   "cell_type": "markdown",
   "id": "f8fcc5d7-80e2-40bf-8fec-c9d2ce90cb5f",
   "metadata": {},
   "source": [
    "Now that we have removed it, we can now visualize the dataset.\n",
    "\n",
    "Since we are to compare the mean star_rating of each type of processor of Intel and AMD, we will group the dataset by processor name. Then, we get the mean star rating of each processor."
   ]
  },
  {
   "cell_type": "code",
   "execution_count": null,
   "id": "6b7fecf4-4f0c-4599-a25e-dfabb225502b",
   "metadata": {},
   "outputs": [],
   "source": [
    "mean_df = rating_df.groupby(\"processor_name\").agg({\"star_rating\": [\"mean\"]})\n",
    "mean_df = mean_df.squeeze()\n",
    "mean_df\n",
    "mean_df.plot.barh(figsize=(15,10)).invert_yaxis()\n",
    "plt.ylabel('Processor Name')\n",
    "plt.xlabel('Star Rating')\n",
    "plt.title('Laptop Rating For Intel and AMD Processors')"
   ]
  },
  {
   "cell_type": "markdown",
   "id": "ccba6843-6e01-4479-9267-296918cae92e",
   "metadata": {},
   "source": [
    "From the graph, we can see the average star_rating of each processor. We can see that the processors with the highest rating are Core i9, Ryzen 9, and Hexa Core. On the other hand, the processors with the lowest star rating are Core m3, Celeron Dual, and A6-9225 Processor."
   ]
  },
  {
   "cell_type": "markdown",
   "id": "6ca4299b-8257-4576-9e27-e28499aeae2f",
   "metadata": {},
   "source": [
    "**Research Question**"
   ]
  },
  {
   "cell_type": "markdown",
   "id": "f18a14b6-a482-480b-a0e2-ed73542cb2ca",
   "metadata": {},
   "source": [
    "After performing all the exploratory data analysis, we were intrigued by what could possibly cause the differences in the star ratings of the laptops. \n",
    "\n",
    "This lead us to come up with the following research question: What are the most influential factors for the star rating of a laptop?"
   ]
  },
  {
   "cell_type": "markdown",
   "id": "d5cdf981-e2c4-474e-916f-438276106361",
   "metadata": {},
   "source": [
    "From the EDAs performed above, we saw possible factors that could influence the star rating of a laptop. \n",
    "\n",
    "The first EDA showed that there is a positive correlation between the price of the laptop and its rating. The second EDA showed that the star rating of AMD vs Intel laptops are not that far apart. The third EDA showed that the star rating of laptops varies from one another based on the processor. However, there are still other factors that could affect the star ratings of the laptop. Like in the first EDA, a higher price would usually not be favorable for a consumer yet the laptops with higher ratings seem to increase as laptop prices go up. This could mean that there are multiple factors to get higher ratings for laptops. Based on our 2nd and 3rd EDA's, it is possible that brands and specific processors are factors for why these laptops get higher ratings. The other variables like ram gb, weight, graphic card gb, screen size may all be factors besides this. Finding out the most influential factors for a rating of a laptop is important as it allows manufacturers to see what improvements they could make or what they could focus on when creating a laptop."
   ]
  },
  {
   "cell_type": "code",
   "execution_count": null,
   "id": "4e38cb73-a850-40a3-a05e-8d68db0e18e7",
   "metadata": {},
   "outputs": [],
   "source": []
  }
 ],
 "metadata": {
  "kernelspec": {
   "display_name": "Python 3 (ipykernel)",
   "language": "python",
   "name": "python3"
  },
  "language_info": {
   "codemirror_mode": {
    "name": "ipython",
    "version": 3
   },
   "file_extension": ".py",
   "mimetype": "text/x-python",
   "name": "python",
   "nbconvert_exporter": "python",
   "pygments_lexer": "ipython3",
   "version": "3.9.12"
  }
 },
 "nbformat": 4,
 "nbformat_minor": 5
}
