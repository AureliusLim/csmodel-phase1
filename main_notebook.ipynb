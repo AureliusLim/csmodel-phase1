{
 "cells": [
  {
   "cell_type": "markdown",
   "id": "52b17a6d-5067-4fbf-89d9-65bc602a5b60",
   "metadata": {},
   "source": [
    "# Dataset Description"
   ]
  },
  {
   "cell_type": "markdown",
   "id": "b011776b-5624-4246-ad3f-a8e186555412",
   "metadata": {},
   "source": [
    " **Dataset: Laptop Specs and Latest Price By Santosh Kumar (2022)**"
   ]
  },
  {
   "cell_type": "markdown",
   "id": "b6cbf2e7-7154-4bd5-9e63-e77c68834cdd",
   "metadata": {},
   "source": [
    "**Brief Overview**\n",
    "\n",
    "**The dataset illustrates the factors that influence the prices of laptops**\n",
    "\n",
    "* Several different factors can affect laptop computer prices. These factors include the brand of computer and the number of options and add-ons included in the computer package. In addition, the amount of memory and the speed of the processor can also affect pricing. Though less common, some consumers spend additional money to purchase a computer based on the overall “look” and design of the system.\n",
    "\n",
    "* In many cases, name brand computers are more expensive than generic versions. This price increase often has more to do with name recognition than any actual superiority of the product. One major difference between name brand and generic systems is that in most cases, name brand computers offer better warranties than generic versions. Having the option of returning a computer that is malfunctioning is often enough of an incentive to encourage many consumers to spend more money.\n",
    "\n",
    "* Functionality is an important factor in determining laptop computer prices. A computer with more memory often performs better for a longer time than a computer with less memory. In addition, hard drive space is also crucial, and the size of the hard drive usually affects pricing. Many consumers may also look for digital video drivers and other types of recording devices that may affect the laptop computer prices.\n",
    "\n",
    "* Most computers come with some software pre-installed. In most cases, the more software that is installed on a computer, the more expensive it is. This is especially true if the installed programs are from well-established and recognizable software publishers. Those considering purchasing a new laptop computer should be aware that many of the pre-installed programs may be trial versions only, and will expire within a certain time period. In order to keep the programs, a code will need to be purchased, and then a permanent version of the software can be downloaded.\n",
    "\n",
    "* Many consumers who are purchasing a new computer are buying an entire package. In addition to the computer itself, these systems typically include a monitor, keyboard, and mouse. Some packages may even include a printer or digital camera. The number of extras included in a computer package usually affects laptop computer prices.\n",
    "\n",
    "* Some industry leaders in computer manufacturing make it a selling point to offer computers in sleek styling and in a variety of colors. They may also offer unusual or contemporary system design. Though this is less important to many consumers, for those who do value “looks,” this type of system may be well worth the extra cost."
   ]
  },
  {
   "cell_type": "markdown",
   "id": "eaf1a433-8b7e-4c9d-990a-10bd7348b4a2",
   "metadata": {},
   "source": [
    "**Collection Process**\n",
    "\n",
    "The data was gathered from flipkart.com in which an automated chrome web extension tool called Instant Data Scrapper was utilized. Instant Data Scraper extracts data from web pages and exports it as Excel or CSV files. It is an automated data extraction tool for any website. It utilizes an AI to predict which data is most relevant on a HTML page. \n",
    "\n",
    "The tool does not require scripts. It uses heuristic AI analysis of HTML structure to detect data for extraction. If the prediction is not satisfactory, it lets the user customize the selections for greater accuracy. Data scraping works just as well for small to much larger and known website such as Amazon.\n",
    "**NEED TO ADD HOW COLLECTION PROCESS AFFECTS INSIGHTS**"
   ]
  },
  {
   "cell_type": "markdown",
   "id": "2057d93e-6e52-413d-a4ab-51b8d1a542b4",
   "metadata": {},
   "source": [
    "**Structure of the Dataset**\n",
    "\n",
    "The dataset presents different laptops and their characteristics. Each row is equivalent to a single laptop that is listed by a seller on flipkart.com. There are 896 rows on the dataset which means that the number of laptops gathered for the dataset is precisely 896 aswell. On the other hand, there are 23 columns on the dataset. Each column represents a specific attribute or variable of a laptop. \n",
    "\n",
    "**Description of each variable**\n",
    "* **brand**- refers to how the laptop is publicly distinguished from those manufactured by other companies\n",
    "* **model**- the particular version or design of a laptop from a given manufacturer\n",
    "* **processor_brand**- refers to how the laptop's processor is publicly distinguished from those manufactured by other companies\n",
    "* **processor_name**- refers to the specific processor of the laptop\n",
    "* **processor_gnrtn**- refers to the generation number of the laptop's processor\n",
    "* **ram_gb**- refers to the total RAM of the laptop in GB\n",
    "* **ram_type**- refers to the type of the laptop's RAM\n",
    "* **ssd**- refers to the capacity of the laptop's SSD\n",
    "* **hdd**- refers to the capacity of the laptop's HDD\n",
    "* **os**- refers to the operating system of the laptop\n",
    "* **os_bit**- determines whether the OS is 32-bit or 64-bit\n",
    "* **graphic_card_gb**- refers to the video memory of the laptop in GB\n",
    "* **weight**- refers to the weight classification of the laptop\n",
    "* **display_size**- refers to the diagonal length of the laptop's screen in inches\n",
    "* **warranty**- refers to the warranty in years\n",
    "* **touchscreeen**- determines whether or not the laptop has touchscreen capabilities\n",
    "* **msoffice**- if the laptop comes preinstalled with msoffice\n",
    "* **latest-price**- latest price in Indian Rupees\n",
    "* **old_price**- original price in Indian Rupees\n",
    "* **discount**- the discount in % applied to the old_price\n",
    "* **star_rating**- refers to the average star rating to the product wherein 0 is the lowest and 5 is the highest\n",
    "* **ratings**- refers to the total number of ratings given by buyers\n",
    "* **reviews**- refers to the total number of reviews written by buyers"
   ]
  },
  {
   "cell_type": "markdown",
   "id": "09c57203-d17a-4029-8673-07fbbc4a8565",
   "metadata": {},
   "source": [
    "## Data Cleaning"
   ]
  },
  {
   "cell_type": "markdown",
   "id": "5d02d925-5cb4-4029-b388-b7c6d27e7d30",
   "metadata": {},
   "source": [
    "Among all the variables, only one variable, which is namely: \"processor_name\", showed major inconsistencies with its data representation. Some cells were quite ambiguous or too broad with its naming. An example of this is a processor name of \"Ryzen\" and \"Core\". The issue here is that there are too many cpu's under those categories. Because of this, those observations are going to be dropped. From a total of 896 observations, the dataset was reduced to 881 observations after cleaning the variable. Moving on to the lesser issues is the formatting of the variable \"ram_gb\". Each one is accompanied by 2 \"GB\" following the value. An example of this is \"4 GB GB\", \" 8 GB GB\" and so on. This is not as much of an issue since the whole dataset is formatted in a similar way. However, it is still modified in this notebook to make the data more elegant. Lastly, some values of the variable \"old_price\" are set to 0. This occurs whenever no discount is available. Because of this, its price had always been the value of \"latest_price\". However to avoid confusion it is better to set the value equal to the \"latest_price\" as well which is what has been done in the notebook. "
   ]
  },
  {
   "cell_type": "code",
   "execution_count": 1,
   "id": "ec2d89fc-3047-4370-89af-79fdaf670f35",
   "metadata": {},
   "outputs": [
    {
     "data": {
      "text/html": [
       "<div>\n",
       "<style scoped>\n",
       "    .dataframe tbody tr th:only-of-type {\n",
       "        vertical-align: middle;\n",
       "    }\n",
       "\n",
       "    .dataframe tbody tr th {\n",
       "        vertical-align: top;\n",
       "    }\n",
       "\n",
       "    .dataframe thead th {\n",
       "        text-align: right;\n",
       "    }\n",
       "</style>\n",
       "<table border=\"1\" class=\"dataframe\">\n",
       "  <thead>\n",
       "    <tr style=\"text-align: right;\">\n",
       "      <th></th>\n",
       "      <th>brand</th>\n",
       "      <th>model</th>\n",
       "      <th>processor_brand</th>\n",
       "      <th>processor_name</th>\n",
       "      <th>processor_gnrtn</th>\n",
       "      <th>ram_gb</th>\n",
       "      <th>ram_type</th>\n",
       "      <th>ssd</th>\n",
       "      <th>hdd</th>\n",
       "      <th>os</th>\n",
       "      <th>...</th>\n",
       "      <th>display_size</th>\n",
       "      <th>warranty</th>\n",
       "      <th>Touchscreen</th>\n",
       "      <th>msoffice</th>\n",
       "      <th>latest_price</th>\n",
       "      <th>old_price</th>\n",
       "      <th>discount</th>\n",
       "      <th>star_rating</th>\n",
       "      <th>ratings</th>\n",
       "      <th>reviews</th>\n",
       "    </tr>\n",
       "  </thead>\n",
       "  <tbody>\n",
       "    <tr>\n",
       "      <th>0</th>\n",
       "      <td>Lenovo</td>\n",
       "      <td>A6-9225</td>\n",
       "      <td>AMD</td>\n",
       "      <td>A6-9225 Processor</td>\n",
       "      <td>10th</td>\n",
       "      <td>4 GB GB</td>\n",
       "      <td>DDR4</td>\n",
       "      <td>0 GB</td>\n",
       "      <td>1024 GB</td>\n",
       "      <td>Windows</td>\n",
       "      <td>...</td>\n",
       "      <td>Missing</td>\n",
       "      <td>0</td>\n",
       "      <td>No</td>\n",
       "      <td>No</td>\n",
       "      <td>24990</td>\n",
       "      <td>32790</td>\n",
       "      <td>23</td>\n",
       "      <td>3.7</td>\n",
       "      <td>63</td>\n",
       "      <td>12</td>\n",
       "    </tr>\n",
       "    <tr>\n",
       "      <th>1</th>\n",
       "      <td>Lenovo</td>\n",
       "      <td>Ideapad</td>\n",
       "      <td>AMD</td>\n",
       "      <td>APU Dual</td>\n",
       "      <td>10th</td>\n",
       "      <td>4 GB GB</td>\n",
       "      <td>DDR4</td>\n",
       "      <td>0 GB</td>\n",
       "      <td>512 GB</td>\n",
       "      <td>Windows</td>\n",
       "      <td>...</td>\n",
       "      <td>Missing</td>\n",
       "      <td>0</td>\n",
       "      <td>No</td>\n",
       "      <td>No</td>\n",
       "      <td>19590</td>\n",
       "      <td>21325</td>\n",
       "      <td>8</td>\n",
       "      <td>3.6</td>\n",
       "      <td>1894</td>\n",
       "      <td>256</td>\n",
       "    </tr>\n",
       "    <tr>\n",
       "      <th>2</th>\n",
       "      <td>Avita</td>\n",
       "      <td>PURA</td>\n",
       "      <td>AMD</td>\n",
       "      <td>APU Dual</td>\n",
       "      <td>10th</td>\n",
       "      <td>4 GB GB</td>\n",
       "      <td>DDR4</td>\n",
       "      <td>128 GB</td>\n",
       "      <td>0 GB</td>\n",
       "      <td>Windows</td>\n",
       "      <td>...</td>\n",
       "      <td>Missing</td>\n",
       "      <td>0</td>\n",
       "      <td>No</td>\n",
       "      <td>No</td>\n",
       "      <td>19990</td>\n",
       "      <td>27990</td>\n",
       "      <td>28</td>\n",
       "      <td>3.7</td>\n",
       "      <td>1153</td>\n",
       "      <td>159</td>\n",
       "    </tr>\n",
       "    <tr>\n",
       "      <th>3</th>\n",
       "      <td>Avita</td>\n",
       "      <td>PURA</td>\n",
       "      <td>AMD</td>\n",
       "      <td>APU Dual</td>\n",
       "      <td>10th</td>\n",
       "      <td>4 GB GB</td>\n",
       "      <td>DDR4</td>\n",
       "      <td>128 GB</td>\n",
       "      <td>0 GB</td>\n",
       "      <td>Windows</td>\n",
       "      <td>...</td>\n",
       "      <td>Missing</td>\n",
       "      <td>0</td>\n",
       "      <td>No</td>\n",
       "      <td>No</td>\n",
       "      <td>21490</td>\n",
       "      <td>27990</td>\n",
       "      <td>23</td>\n",
       "      <td>3.7</td>\n",
       "      <td>1153</td>\n",
       "      <td>159</td>\n",
       "    </tr>\n",
       "    <tr>\n",
       "      <th>4</th>\n",
       "      <td>Avita</td>\n",
       "      <td>PURA</td>\n",
       "      <td>AMD</td>\n",
       "      <td>APU Dual</td>\n",
       "      <td>10th</td>\n",
       "      <td>4 GB GB</td>\n",
       "      <td>DDR4</td>\n",
       "      <td>256 GB</td>\n",
       "      <td>0 GB</td>\n",
       "      <td>Windows</td>\n",
       "      <td>...</td>\n",
       "      <td>Missing</td>\n",
       "      <td>0</td>\n",
       "      <td>No</td>\n",
       "      <td>No</td>\n",
       "      <td>24990</td>\n",
       "      <td>33490</td>\n",
       "      <td>25</td>\n",
       "      <td>3.7</td>\n",
       "      <td>1657</td>\n",
       "      <td>234</td>\n",
       "    </tr>\n",
       "    <tr>\n",
       "      <th>5</th>\n",
       "      <td>Avita</td>\n",
       "      <td>PURA</td>\n",
       "      <td>AMD</td>\n",
       "      <td>APU Dual</td>\n",
       "      <td>10th</td>\n",
       "      <td>8 GB GB</td>\n",
       "      <td>DDR4</td>\n",
       "      <td>256 GB</td>\n",
       "      <td>0 GB</td>\n",
       "      <td>Windows</td>\n",
       "      <td>...</td>\n",
       "      <td>14</td>\n",
       "      <td>0</td>\n",
       "      <td>No</td>\n",
       "      <td>No</td>\n",
       "      <td>24990</td>\n",
       "      <td>33490</td>\n",
       "      <td>25</td>\n",
       "      <td>3.7</td>\n",
       "      <td>1657</td>\n",
       "      <td>234</td>\n",
       "    </tr>\n",
       "    <tr>\n",
       "      <th>6</th>\n",
       "      <td>HP</td>\n",
       "      <td>APU</td>\n",
       "      <td>AMD</td>\n",
       "      <td>APU Dual</td>\n",
       "      <td>10th</td>\n",
       "      <td>4 GB GB</td>\n",
       "      <td>DDR4</td>\n",
       "      <td>0 GB</td>\n",
       "      <td>1024 GB</td>\n",
       "      <td>Windows</td>\n",
       "      <td>...</td>\n",
       "      <td>14</td>\n",
       "      <td>0</td>\n",
       "      <td>No</td>\n",
       "      <td>No</td>\n",
       "      <td>20900</td>\n",
       "      <td>22825</td>\n",
       "      <td>8</td>\n",
       "      <td>3.9</td>\n",
       "      <td>1185</td>\n",
       "      <td>141</td>\n",
       "    </tr>\n",
       "    <tr>\n",
       "      <th>7</th>\n",
       "      <td>Lenovo</td>\n",
       "      <td>APU</td>\n",
       "      <td>AMD</td>\n",
       "      <td>APU Dual</td>\n",
       "      <td>10th</td>\n",
       "      <td>4 GB GB</td>\n",
       "      <td>DDR4</td>\n",
       "      <td>0 GB</td>\n",
       "      <td>1024 GB</td>\n",
       "      <td>Windows</td>\n",
       "      <td>...</td>\n",
       "      <td>Missing</td>\n",
       "      <td>0</td>\n",
       "      <td>No</td>\n",
       "      <td>No</td>\n",
       "      <td>21896</td>\n",
       "      <td>0</td>\n",
       "      <td>0</td>\n",
       "      <td>3.9</td>\n",
       "      <td>219</td>\n",
       "      <td>18</td>\n",
       "    </tr>\n",
       "    <tr>\n",
       "      <th>8</th>\n",
       "      <td>HP</td>\n",
       "      <td>Athlon</td>\n",
       "      <td>AMD</td>\n",
       "      <td>Athlon Dual</td>\n",
       "      <td>10th</td>\n",
       "      <td>32 GB GB</td>\n",
       "      <td>DDR4</td>\n",
       "      <td>32 GB</td>\n",
       "      <td>0 GB</td>\n",
       "      <td>Windows</td>\n",
       "      <td>...</td>\n",
       "      <td>14</td>\n",
       "      <td>0</td>\n",
       "      <td>No</td>\n",
       "      <td>No</td>\n",
       "      <td>26899</td>\n",
       "      <td>27668</td>\n",
       "      <td>2</td>\n",
       "      <td>0.0</td>\n",
       "      <td>0</td>\n",
       "      <td>0</td>\n",
       "    </tr>\n",
       "    <tr>\n",
       "      <th>9</th>\n",
       "      <td>acer</td>\n",
       "      <td>Aspire</td>\n",
       "      <td>AMD</td>\n",
       "      <td>Athlon Dual</td>\n",
       "      <td>10th</td>\n",
       "      <td>4 GB GB</td>\n",
       "      <td>DDR4</td>\n",
       "      <td>256 GB</td>\n",
       "      <td>0 GB</td>\n",
       "      <td>Windows</td>\n",
       "      <td>...</td>\n",
       "      <td>Missing</td>\n",
       "      <td>1</td>\n",
       "      <td>No</td>\n",
       "      <td>No</td>\n",
       "      <td>31990</td>\n",
       "      <td>36990</td>\n",
       "      <td>13</td>\n",
       "      <td>4.2</td>\n",
       "      <td>76</td>\n",
       "      <td>13</td>\n",
       "    </tr>\n",
       "  </tbody>\n",
       "</table>\n",
       "<p>10 rows × 23 columns</p>\n",
       "</div>"
      ],
      "text/plain": [
       "    brand    model processor_brand     processor_name processor_gnrtn  \\\n",
       "0  Lenovo  A6-9225             AMD  A6-9225 Processor            10th   \n",
       "1  Lenovo  Ideapad             AMD           APU Dual            10th   \n",
       "2   Avita     PURA             AMD           APU Dual            10th   \n",
       "3   Avita     PURA             AMD           APU Dual            10th   \n",
       "4   Avita     PURA             AMD           APU Dual            10th   \n",
       "5   Avita     PURA             AMD           APU Dual            10th   \n",
       "6      HP      APU             AMD           APU Dual            10th   \n",
       "7  Lenovo      APU             AMD           APU Dual            10th   \n",
       "8      HP   Athlon             AMD        Athlon Dual            10th   \n",
       "9    acer   Aspire             AMD        Athlon Dual            10th   \n",
       "\n",
       "     ram_gb ram_type     ssd      hdd       os  ... display_size  warranty  \\\n",
       "0   4 GB GB     DDR4    0 GB  1024 GB  Windows  ...      Missing         0   \n",
       "1   4 GB GB     DDR4    0 GB   512 GB  Windows  ...      Missing         0   \n",
       "2   4 GB GB     DDR4  128 GB     0 GB  Windows  ...      Missing         0   \n",
       "3   4 GB GB     DDR4  128 GB     0 GB  Windows  ...      Missing         0   \n",
       "4   4 GB GB     DDR4  256 GB     0 GB  Windows  ...      Missing         0   \n",
       "5   8 GB GB     DDR4  256 GB     0 GB  Windows  ...           14         0   \n",
       "6   4 GB GB     DDR4    0 GB  1024 GB  Windows  ...           14         0   \n",
       "7   4 GB GB     DDR4    0 GB  1024 GB  Windows  ...      Missing         0   \n",
       "8  32 GB GB     DDR4   32 GB     0 GB  Windows  ...           14         0   \n",
       "9   4 GB GB     DDR4  256 GB     0 GB  Windows  ...      Missing         1   \n",
       "\n",
       "  Touchscreen msoffice  latest_price old_price discount  star_rating  ratings  \\\n",
       "0          No       No         24990     32790       23          3.7       63   \n",
       "1          No       No         19590     21325        8          3.6     1894   \n",
       "2          No       No         19990     27990       28          3.7     1153   \n",
       "3          No       No         21490     27990       23          3.7     1153   \n",
       "4          No       No         24990     33490       25          3.7     1657   \n",
       "5          No       No         24990     33490       25          3.7     1657   \n",
       "6          No       No         20900     22825        8          3.9     1185   \n",
       "7          No       No         21896         0        0          3.9      219   \n",
       "8          No       No         26899     27668        2          0.0        0   \n",
       "9          No       No         31990     36990       13          4.2       76   \n",
       "\n",
       "   reviews  \n",
       "0       12  \n",
       "1      256  \n",
       "2      159  \n",
       "3      159  \n",
       "4      234  \n",
       "5      234  \n",
       "6      141  \n",
       "7       18  \n",
       "8        0  \n",
       "9       13  \n",
       "\n",
       "[10 rows x 23 columns]"
      ]
     },
     "execution_count": 1,
     "metadata": {},
     "output_type": "execute_result"
    }
   ],
   "source": [
    "import numpy as py\n",
    "import pandas as pd\n",
    "import matplotlib.pyplot as plt\n",
    "laptop_df = pd.read_csv(\"Laptop_data.csv\")\n",
    "laptop_df.head(10)"
   ]
  },
  {
   "cell_type": "code",
   "execution_count": 2,
   "id": "35647f81-bb8c-4c9a-89f8-42387838d09c",
   "metadata": {},
   "outputs": [
    {
     "name": "stdout",
     "output_type": "stream",
     "text": [
      "<class 'pandas.core.frame.DataFrame'>\n",
      "RangeIndex: 896 entries, 0 to 895\n",
      "Data columns (total 23 columns):\n",
      " #   Column           Non-Null Count  Dtype  \n",
      "---  ------           --------------  -----  \n",
      " 0   brand            896 non-null    object \n",
      " 1   model            896 non-null    object \n",
      " 2   processor_brand  896 non-null    object \n",
      " 3   processor_name   896 non-null    object \n",
      " 4   processor_gnrtn  896 non-null    object \n",
      " 5   ram_gb           896 non-null    object \n",
      " 6   ram_type         896 non-null    object \n",
      " 7   ssd              896 non-null    object \n",
      " 8   hdd              896 non-null    object \n",
      " 9   os               896 non-null    object \n",
      " 10  os_bit           896 non-null    object \n",
      " 11  graphic_card_gb  896 non-null    int64  \n",
      " 12  weight           896 non-null    object \n",
      " 13  display_size     896 non-null    object \n",
      " 14  warranty         896 non-null    int64  \n",
      " 15  Touchscreen      896 non-null    object \n",
      " 16  msoffice         896 non-null    object \n",
      " 17  latest_price     896 non-null    int64  \n",
      " 18  old_price        896 non-null    int64  \n",
      " 19  discount         896 non-null    int64  \n",
      " 20  star_rating      896 non-null    float64\n",
      " 21  ratings          896 non-null    int64  \n",
      " 22  reviews          896 non-null    int64  \n",
      "dtypes: float64(1), int64(7), object(15)\n",
      "memory usage: 161.1+ KB\n"
     ]
    }
   ],
   "source": [
    "laptop_df.info()"
   ]
  },
  {
   "cell_type": "code",
   "execution_count": 3,
   "id": "80685a5e-60ac-4465-81a6-27fc9b1a8274",
   "metadata": {},
   "outputs": [
    {
     "data": {
      "text/plain": [
       "Core i5              312\n",
       "Core i3              170\n",
       "Core i7              112\n",
       "Ryzen 5               85\n",
       "Ryzen 7               58\n",
       "Ryzen 9               26\n",
       "Ryzen 3               26\n",
       "Celeron Dual          24\n",
       "M1                    24\n",
       "Pentium Quad          14\n",
       "Core i9                8\n",
       "APU Dual               7\n",
       "GeForce RTX            4\n",
       "MediaTek Kompanio      3\n",
       "Genuine Windows        3\n",
       "Dual Core              3\n",
       "GeForce GTX            2\n",
       "Pentium Silver         2\n",
       "Hexa Core              2\n",
       "Ever Screenpad         2\n",
       "Athlon Dual            2\n",
       "Quad                   1\n",
       "A6-9225 Processor      1\n",
       "GEFORCE RTX            1\n",
       "Core m3                1\n",
       "Core                   1\n",
       "Ryzen                  1\n",
       "Snapdragon 7c          1\n",
       "Name: processor_name, dtype: int64"
      ]
     },
     "execution_count": 3,
     "metadata": {},
     "output_type": "execute_result"
    }
   ],
   "source": [
    "laptop_df['processor_name'].value_counts()"
   ]
  },
  {
   "cell_type": "code",
   "execution_count": 4,
   "id": "c8fc8bd0-6920-4beb-8a71-f6689a9e9e16",
   "metadata": {},
   "outputs": [
    {
     "data": {
      "text/plain": [
       "(896, 23)"
      ]
     },
     "execution_count": 4,
     "metadata": {},
     "output_type": "execute_result"
    }
   ],
   "source": [
    "laptop_df.shape"
   ]
  },
  {
   "cell_type": "code",
   "execution_count": 5,
   "id": "42fb4fa5-2c13-4609-beca-5b18b89a3218",
   "metadata": {},
   "outputs": [
    {
     "data": {
      "text/plain": [
       "(881, 23)"
      ]
     },
     "execution_count": 5,
     "metadata": {},
     "output_type": "execute_result"
    }
   ],
   "source": [
    "clean_df = laptop_df\n",
    "clean_df = laptop_df[(laptop_df.processor_name != \"Ryzen\") & (laptop_df.processor_name != \"Core\") & (laptop_df.processor_name != \"GEFORCE RTX\") & (laptop_df.processor_name != \"GeForce GTX\") & (laptop_df.processor_name != \"GeForce RTX\") & (laptop_df.processor_name != \"Quad\") & (laptop_df.processor_name != \"Ever Screenpad\") & (laptop_df.processor_name != \"Genuine Windows\")]\n",
    "clean_df.shape"
   ]
  },
  {
   "cell_type": "code",
   "execution_count": 6,
   "id": "9fc7ce82-c480-406f-bffc-ab58c6e23461",
   "metadata": {},
   "outputs": [
    {
     "data": {
      "text/plain": [
       "Core i5              312\n",
       "Core i3              170\n",
       "Core i7              112\n",
       "Ryzen 5               85\n",
       "Ryzen 7               58\n",
       "Ryzen 3               26\n",
       "Ryzen 9               26\n",
       "M1                    24\n",
       "Celeron Dual          24\n",
       "Pentium Quad          14\n",
       "Core i9                8\n",
       "APU Dual               7\n",
       "Dual Core              3\n",
       "MediaTek Kompanio      3\n",
       "Hexa Core              2\n",
       "Pentium Silver         2\n",
       "Athlon Dual            2\n",
       "A6-9225 Processor      1\n",
       "Core m3                1\n",
       "Snapdragon 7c          1\n",
       "Name: processor_name, dtype: int64"
      ]
     },
     "execution_count": 6,
     "metadata": {},
     "output_type": "execute_result"
    }
   ],
   "source": [
    "clean_df['processor_name'].value_counts()"
   ]
  },
  {
   "cell_type": "code",
   "execution_count": 7,
   "id": "d33dfc1f-3fcc-44a7-978d-341e03db2c88",
   "metadata": {},
   "outputs": [
    {
     "data": {
      "text/plain": [
       "array(['4 GB GB', '8 GB GB', '32 GB GB', '16 GB GB'], dtype=object)"
      ]
     },
     "execution_count": 7,
     "metadata": {},
     "output_type": "execute_result"
    }
   ],
   "source": [
    "clean_df['ram_gb'].unique()"
   ]
  },
  {
   "cell_type": "code",
   "execution_count": 8,
   "id": "60ae3905-d9af-484f-bd7c-2b5b7de60c8f",
   "metadata": {},
   "outputs": [
    {
     "name": "stderr",
     "output_type": "stream",
     "text": [
      "C:\\Users\\Aurelius Justin Lim\\AppData\\Local\\Temp\\ipykernel_21948\\117300580.py:1: SettingWithCopyWarning: \n",
      "A value is trying to be set on a copy of a slice from a DataFrame.\n",
      "Try using .loc[row_indexer,col_indexer] = value instead\n",
      "\n",
      "See the caveats in the documentation: https://pandas.pydata.org/pandas-docs/stable/user_guide/indexing.html#returning-a-view-versus-a-copy\n",
      "  clean_df['ram_gb'] = clean_df['ram_gb'].replace({'4 GB GB':'4 GB', '8 GB GB':'8 GB', '32 GB GB':'32 GB', '16 GB GB':'16 GB'})\n"
     ]
    },
    {
     "data": {
      "text/plain": [
       "array(['4 GB', '8 GB', '32 GB', '16 GB'], dtype=object)"
      ]
     },
     "execution_count": 8,
     "metadata": {},
     "output_type": "execute_result"
    }
   ],
   "source": [
    "clean_df['ram_gb'] = clean_df['ram_gb'].replace({'4 GB GB':'4 GB', '8 GB GB':'8 GB', '32 GB GB':'32 GB', '16 GB GB':'16 GB'})\n",
    "clean_df['ram_gb'].unique()"
   ]
  },
  {
   "cell_type": "code",
   "execution_count": 9,
   "id": "5543851f-dcc9-4c88-a538-cbf26757f0ce",
   "metadata": {},
   "outputs": [
    {
     "data": {
      "text/plain": [
       "0         48\n",
       "78990     10\n",
       "79990      9\n",
       "57990      8\n",
       "49990      7\n",
       "          ..\n",
       "97946      1\n",
       "86720      1\n",
       "151557     1\n",
       "86990      1\n",
       "78400      1\n",
       "Name: old_price, Length: 554, dtype: int64"
      ]
     },
     "execution_count": 9,
     "metadata": {},
     "output_type": "execute_result"
    }
   ],
   "source": [
    "clean_df['old_price'].value_counts()"
   ]
  },
  {
   "cell_type": "code",
   "execution_count": 10,
   "id": "1ede000f-6568-48ee-90df-a98668a11575",
   "metadata": {},
   "outputs": [
    {
     "data": {
      "text/plain": [
       "(48,)"
      ]
     },
     "execution_count": 10,
     "metadata": {},
     "output_type": "execute_result"
    }
   ],
   "source": [
    "clean_df.loc[clean_df['old_price'] == 0,'old_price'] = clean_df.latest_price\n",
    "clean_df.loc[clean_df['old_price'] == clean_df.latest_price,'old_price'].shape"
   ]
  },
  {
   "cell_type": "code",
   "execution_count": 11,
   "id": "770fc378-cfc6-4810-9954-4c2099a334c7",
   "metadata": {},
   "outputs": [],
   "source": [
    "clean_df.to_csv('laptop_cleaned.csv')"
   ]
  },
  {
   "cell_type": "markdown",
   "id": "bb51276b-365e-4073-bc63-ab8d7256cee3",
   "metadata": {},
   "source": [
    "**Exploratory Data Analysis**"
   ]
  },
  {
   "cell_type": "markdown",
   "id": "11bf21c4-baa8-4f95-a3c1-f34e193b0222",
   "metadata": {},
   "source": [
    " **1) For each processor presented, what is the average price of the laptop?**"
   ]
  },
  {
   "cell_type": "markdown",
   "id": "77a13bec-aed8-44a6-9fd3-04f52d1b10e8",
   "metadata": {},
   "source": [
    "Let us visualize all of the processors in the dataset."
   ]
  },
  {
   "cell_type": "code",
   "execution_count": 12,
   "id": "fcabf9be-5513-4ecc-832b-cd133c429aa5",
   "metadata": {},
   "outputs": [
    {
     "data": {
      "text/plain": [
       "Core i5              312\n",
       "Core i3              170\n",
       "Core i7              112\n",
       "Ryzen 5               85\n",
       "Ryzen 7               58\n",
       "Ryzen 3               26\n",
       "Ryzen 9               26\n",
       "M1                    24\n",
       "Celeron Dual          24\n",
       "Pentium Quad          14\n",
       "Core i9                8\n",
       "APU Dual               7\n",
       "Dual Core              3\n",
       "MediaTek Kompanio      3\n",
       "Hexa Core              2\n",
       "Pentium Silver         2\n",
       "Athlon Dual            2\n",
       "A6-9225 Processor      1\n",
       "Core m3                1\n",
       "Snapdragon 7c          1\n",
       "Name: processor_name, dtype: int64"
      ]
     },
     "execution_count": 12,
     "metadata": {},
     "output_type": "execute_result"
    }
   ],
   "source": [
    "clean_df[\"processor_name\"].value_counts()"
   ]
  },
  {
   "cell_type": "code",
   "execution_count": 13,
   "id": "8ff41718-6dfe-4a59-99cc-6882e890a72b",
   "metadata": {},
   "outputs": [],
   "source": [
    "mean_df = clean_df.groupby(\"processor_name\").agg({\"latest_price\": [\"mean\"]})"
   ]
  },
  {
   "cell_type": "code",
   "execution_count": 14,
   "id": "06c12b84-7523-4a49-94c6-c3a99109f50a",
   "metadata": {},
   "outputs": [
    {
     "data": {
      "text/plain": [
       "Text(0.5, 1.0, 'Laptop Price For Each Processor')"
      ]
     },
     "execution_count": 14,
     "metadata": {},
     "output_type": "execute_result"
    },
    {
     "data": {
      "image/png": "[encoded data removed]",
      "text/plain": [
       "<Figure size 864x1008 with 1 Axes>"
      ]
     },
     "metadata": {
      "needs_background": "light"
     },
     "output_type": "display_data"
    }
   ],
   "source": [
    "mean_df = mean_df.squeeze()\n",
    "mean_df\n",
    "mean_df.plot.barh(figsize=(12,14)).invert_yaxis()\n",
    "plt.ylabel('Processor')\n",
    "plt.xlabel('Price (Rupees)')\n",
    "plt.title('Laptop Price For Each Processor')"
   ]
  },
  {
   "cell_type": "markdown",
   "id": "1cd9e554-16ce-4af0-bde9-3995d16faf89",
   "metadata": {},
   "source": [
    "The horizontal graph above shows the mean price of laptops given a specific processor. The most expensive laptops comes with processors such as the Intel core I9, Intel core I7, Apple M1, AMD Ryzen 7, and AMD Ryzen 9. These are the top processors of AMD, Intel and Apple which supports the data shown on the graph. With all of these high performance laptops costing more than 120000 rupees. The Intel Core I9 laptops comes close to the 250000 rupees price range. "
   ]
  },
  {
   "cell_type": "markdown",
   "id": "f45af064-ed43-42f3-8341-323d85b55fd8",
   "metadata": {},
   "source": [
    "**2)For laptops that have a SSD, what is the relationship of SSD storage and its overall price?**"
   ]
  },
  {
   "cell_type": "markdown",
   "id": "4a6838af-973c-46dd-85ff-a4ee5f78858b",
   "metadata": {},
   "source": [
    "Let us first get the different sizes of SSDs in the dataset."
   ]
  },
  {
   "cell_type": "code",
   "execution_count": 15,
   "id": "8f23a211-1987-40e8-8d58-58016bad15f9",
   "metadata": {},
   "outputs": [
    {
     "data": {
      "text/plain": [
       "512 GB     417\n",
       "256 GB     201\n",
       "0 GB       137\n",
       "1024 GB    111\n",
       "128 GB      11\n",
       "2048 GB      2\n",
       "32 GB        1\n",
       "3072 GB      1\n",
       "Name: ssd, dtype: int64"
      ]
     },
     "execution_count": 15,
     "metadata": {},
     "output_type": "execute_result"
    }
   ],
   "source": [
    "clean_df['ssd'].value_counts()"
   ]
  },
  {
   "cell_type": "markdown",
   "id": "e2ba750e-82d3-4c1a-b733-c348634f86a2",
   "metadata": {},
   "source": [
    "Afterwards, we need to remove laptops that do not have a SSD so that these values does not interfere to the final result."
   ]
  },
  {
   "cell_type": "code",
   "execution_count": 16,
   "id": "83a5d772-5642-4fa0-8553-77154b99dd0e",
   "metadata": {},
   "outputs": [
    {
     "name": "stderr",
     "output_type": "stream",
     "text": [
      "C:\\Users\\Aurelius Justin Lim\\AppData\\Local\\Temp\\ipykernel_21948\\3222413544.py:2: SettingWithCopyWarning: \n",
      "A value is trying to be set on a copy of a slice from a DataFrame.\n",
      "Try using .loc[row_indexer,col_indexer] = value instead\n",
      "\n",
      "See the caveats in the documentation: https://pandas.pydata.org/pandas-docs/stable/user_guide/indexing.html#returning-a-view-versus-a-copy\n",
      "  ssd_df['ssd'] = ssd_df['ssd'].replace({'512 GB':512, '256 GB':256, '1024 GB':1024, '128 GB':128, '2048 GB':2048, '32 GB':32, '3072 GB':3072})\n"
     ]
    },
    {
     "data": {
      "text/html": [
       "<div>\n",
       "<style scoped>\n",
       "    .dataframe tbody tr th:only-of-type {\n",
       "        vertical-align: middle;\n",
       "    }\n",
       "\n",
       "    .dataframe tbody tr th {\n",
       "        vertical-align: top;\n",
       "    }\n",
       "\n",
       "    .dataframe thead th {\n",
       "        text-align: right;\n",
       "    }\n",
       "</style>\n",
       "<table border=\"1\" class=\"dataframe\">\n",
       "  <thead>\n",
       "    <tr style=\"text-align: right;\">\n",
       "      <th></th>\n",
       "      <th>brand</th>\n",
       "      <th>model</th>\n",
       "      <th>processor_brand</th>\n",
       "      <th>processor_name</th>\n",
       "      <th>processor_gnrtn</th>\n",
       "      <th>ram_gb</th>\n",
       "      <th>ram_type</th>\n",
       "      <th>ssd</th>\n",
       "      <th>hdd</th>\n",
       "      <th>os</th>\n",
       "      <th>...</th>\n",
       "      <th>display_size</th>\n",
       "      <th>warranty</th>\n",
       "      <th>Touchscreen</th>\n",
       "      <th>msoffice</th>\n",
       "      <th>latest_price</th>\n",
       "      <th>old_price</th>\n",
       "      <th>discount</th>\n",
       "      <th>star_rating</th>\n",
       "      <th>ratings</th>\n",
       "      <th>reviews</th>\n",
       "    </tr>\n",
       "  </thead>\n",
       "  <tbody>\n",
       "    <tr>\n",
       "      <th>2</th>\n",
       "      <td>Avita</td>\n",
       "      <td>PURA</td>\n",
       "      <td>AMD</td>\n",
       "      <td>APU Dual</td>\n",
       "      <td>10th</td>\n",
       "      <td>4 GB</td>\n",
       "      <td>DDR4</td>\n",
       "      <td>128</td>\n",
       "      <td>0 GB</td>\n",
       "      <td>Windows</td>\n",
       "      <td>...</td>\n",
       "      <td>Missing</td>\n",
       "      <td>0</td>\n",
       "      <td>No</td>\n",
       "      <td>No</td>\n",
       "      <td>19990</td>\n",
       "      <td>27990</td>\n",
       "      <td>28</td>\n",
       "      <td>3.7</td>\n",
       "      <td>1153</td>\n",
       "      <td>159</td>\n",
       "    </tr>\n",
       "    <tr>\n",
       "      <th>3</th>\n",
       "      <td>Avita</td>\n",
       "      <td>PURA</td>\n",
       "      <td>AMD</td>\n",
       "      <td>APU Dual</td>\n",
       "      <td>10th</td>\n",
       "      <td>4 GB</td>\n",
       "      <td>DDR4</td>\n",
       "      <td>128</td>\n",
       "      <td>0 GB</td>\n",
       "      <td>Windows</td>\n",
       "      <td>...</td>\n",
       "      <td>Missing</td>\n",
       "      <td>0</td>\n",
       "      <td>No</td>\n",
       "      <td>No</td>\n",
       "      <td>21490</td>\n",
       "      <td>27990</td>\n",
       "      <td>23</td>\n",
       "      <td>3.7</td>\n",
       "      <td>1153</td>\n",
       "      <td>159</td>\n",
       "    </tr>\n",
       "    <tr>\n",
       "      <th>4</th>\n",
       "      <td>Avita</td>\n",
       "      <td>PURA</td>\n",
       "      <td>AMD</td>\n",
       "      <td>APU Dual</td>\n",
       "      <td>10th</td>\n",
       "      <td>4 GB</td>\n",
       "      <td>DDR4</td>\n",
       "      <td>256</td>\n",
       "      <td>0 GB</td>\n",
       "      <td>Windows</td>\n",
       "      <td>...</td>\n",
       "      <td>Missing</td>\n",
       "      <td>0</td>\n",
       "      <td>No</td>\n",
       "      <td>No</td>\n",
       "      <td>24990</td>\n",
       "      <td>33490</td>\n",
       "      <td>25</td>\n",
       "      <td>3.7</td>\n",
       "      <td>1657</td>\n",
       "      <td>234</td>\n",
       "    </tr>\n",
       "    <tr>\n",
       "      <th>5</th>\n",
       "      <td>Avita</td>\n",
       "      <td>PURA</td>\n",
       "      <td>AMD</td>\n",
       "      <td>APU Dual</td>\n",
       "      <td>10th</td>\n",
       "      <td>8 GB</td>\n",
       "      <td>DDR4</td>\n",
       "      <td>256</td>\n",
       "      <td>0 GB</td>\n",
       "      <td>Windows</td>\n",
       "      <td>...</td>\n",
       "      <td>14</td>\n",
       "      <td>0</td>\n",
       "      <td>No</td>\n",
       "      <td>No</td>\n",
       "      <td>24990</td>\n",
       "      <td>33490</td>\n",
       "      <td>25</td>\n",
       "      <td>3.7</td>\n",
       "      <td>1657</td>\n",
       "      <td>234</td>\n",
       "    </tr>\n",
       "    <tr>\n",
       "      <th>8</th>\n",
       "      <td>HP</td>\n",
       "      <td>Athlon</td>\n",
       "      <td>AMD</td>\n",
       "      <td>Athlon Dual</td>\n",
       "      <td>10th</td>\n",
       "      <td>32 GB</td>\n",
       "      <td>DDR4</td>\n",
       "      <td>32</td>\n",
       "      <td>0 GB</td>\n",
       "      <td>Windows</td>\n",
       "      <td>...</td>\n",
       "      <td>14</td>\n",
       "      <td>0</td>\n",
       "      <td>No</td>\n",
       "      <td>No</td>\n",
       "      <td>26899</td>\n",
       "      <td>27668</td>\n",
       "      <td>2</td>\n",
       "      <td>0.0</td>\n",
       "      <td>0</td>\n",
       "      <td>0</td>\n",
       "    </tr>\n",
       "    <tr>\n",
       "      <th>...</th>\n",
       "      <td>...</td>\n",
       "      <td>...</td>\n",
       "      <td>...</td>\n",
       "      <td>...</td>\n",
       "      <td>...</td>\n",
       "      <td>...</td>\n",
       "      <td>...</td>\n",
       "      <td>...</td>\n",
       "      <td>...</td>\n",
       "      <td>...</td>\n",
       "      <td>...</td>\n",
       "      <td>...</td>\n",
       "      <td>...</td>\n",
       "      <td>...</td>\n",
       "      <td>...</td>\n",
       "      <td>...</td>\n",
       "      <td>...</td>\n",
       "      <td>...</td>\n",
       "      <td>...</td>\n",
       "      <td>...</td>\n",
       "      <td>...</td>\n",
       "    </tr>\n",
       "    <tr>\n",
       "      <th>890</th>\n",
       "      <td>ASUS</td>\n",
       "      <td>ROG</td>\n",
       "      <td>AMD</td>\n",
       "      <td>Ryzen 9</td>\n",
       "      <td>Missing</td>\n",
       "      <td>4 GB</td>\n",
       "      <td>DDR4</td>\n",
       "      <td>1024</td>\n",
       "      <td>0 GB</td>\n",
       "      <td>Windows</td>\n",
       "      <td>...</td>\n",
       "      <td>16</td>\n",
       "      <td>1</td>\n",
       "      <td>No</td>\n",
       "      <td>No</td>\n",
       "      <td>135990</td>\n",
       "      <td>172990</td>\n",
       "      <td>21</td>\n",
       "      <td>0.0</td>\n",
       "      <td>0</td>\n",
       "      <td>0</td>\n",
       "    </tr>\n",
       "    <tr>\n",
       "      <th>891</th>\n",
       "      <td>ASUS</td>\n",
       "      <td>ROG</td>\n",
       "      <td>AMD</td>\n",
       "      <td>Ryzen 9</td>\n",
       "      <td>Missing</td>\n",
       "      <td>4 GB</td>\n",
       "      <td>DDR4</td>\n",
       "      <td>1024</td>\n",
       "      <td>0 GB</td>\n",
       "      <td>Windows</td>\n",
       "      <td>...</td>\n",
       "      <td>16</td>\n",
       "      <td>1</td>\n",
       "      <td>No</td>\n",
       "      <td>No</td>\n",
       "      <td>144990</td>\n",
       "      <td>194990</td>\n",
       "      <td>25</td>\n",
       "      <td>0.0</td>\n",
       "      <td>0</td>\n",
       "      <td>0</td>\n",
       "    </tr>\n",
       "    <tr>\n",
       "      <th>892</th>\n",
       "      <td>ASUS</td>\n",
       "      <td>Ryzen</td>\n",
       "      <td>AMD</td>\n",
       "      <td>Ryzen 9</td>\n",
       "      <td>Missing</td>\n",
       "      <td>4 GB</td>\n",
       "      <td>DDR4</td>\n",
       "      <td>1024</td>\n",
       "      <td>0 GB</td>\n",
       "      <td>Windows</td>\n",
       "      <td>...</td>\n",
       "      <td>Missing</td>\n",
       "      <td>1</td>\n",
       "      <td>No</td>\n",
       "      <td>No</td>\n",
       "      <td>149990</td>\n",
       "      <td>149990</td>\n",
       "      <td>0</td>\n",
       "      <td>0.0</td>\n",
       "      <td>0</td>\n",
       "      <td>0</td>\n",
       "    </tr>\n",
       "    <tr>\n",
       "      <th>893</th>\n",
       "      <td>ASUS</td>\n",
       "      <td>Ryzen</td>\n",
       "      <td>AMD</td>\n",
       "      <td>Ryzen 9</td>\n",
       "      <td>Missing</td>\n",
       "      <td>4 GB</td>\n",
       "      <td>DDR4</td>\n",
       "      <td>1024</td>\n",
       "      <td>0 GB</td>\n",
       "      <td>Windows</td>\n",
       "      <td>...</td>\n",
       "      <td>16</td>\n",
       "      <td>1</td>\n",
       "      <td>No</td>\n",
       "      <td>No</td>\n",
       "      <td>142990</td>\n",
       "      <td>142990</td>\n",
       "      <td>0</td>\n",
       "      <td>0.0</td>\n",
       "      <td>0</td>\n",
       "      <td>0</td>\n",
       "    </tr>\n",
       "    <tr>\n",
       "      <th>895</th>\n",
       "      <td>Lenovo</td>\n",
       "      <td>Thinkpad</td>\n",
       "      <td>AMD</td>\n",
       "      <td>Ryzen 5</td>\n",
       "      <td>10th</td>\n",
       "      <td>8 GB</td>\n",
       "      <td>DDR4</td>\n",
       "      <td>512</td>\n",
       "      <td>0 GB</td>\n",
       "      <td>DOS</td>\n",
       "      <td>...</td>\n",
       "      <td>14</td>\n",
       "      <td>0</td>\n",
       "      <td>No</td>\n",
       "      <td>No</td>\n",
       "      <td>57490</td>\n",
       "      <td>78400</td>\n",
       "      <td>26</td>\n",
       "      <td>4.2</td>\n",
       "      <td>18</td>\n",
       "      <td>4</td>\n",
       "    </tr>\n",
       "  </tbody>\n",
       "</table>\n",
       "<p>744 rows × 23 columns</p>\n",
       "</div>"
      ],
      "text/plain": [
       "      brand     model processor_brand processor_name processor_gnrtn ram_gb  \\\n",
       "2     Avita      PURA             AMD       APU Dual            10th   4 GB   \n",
       "3     Avita      PURA             AMD       APU Dual            10th   4 GB   \n",
       "4     Avita      PURA             AMD       APU Dual            10th   4 GB   \n",
       "5     Avita      PURA             AMD       APU Dual            10th   8 GB   \n",
       "8        HP    Athlon             AMD    Athlon Dual            10th  32 GB   \n",
       "..      ...       ...             ...            ...             ...    ...   \n",
       "890    ASUS       ROG             AMD        Ryzen 9         Missing   4 GB   \n",
       "891    ASUS       ROG             AMD        Ryzen 9         Missing   4 GB   \n",
       "892    ASUS     Ryzen             AMD        Ryzen 9         Missing   4 GB   \n",
       "893    ASUS     Ryzen             AMD        Ryzen 9         Missing   4 GB   \n",
       "895  Lenovo  Thinkpad             AMD        Ryzen 5            10th   8 GB   \n",
       "\n",
       "    ram_type   ssd   hdd       os  ... display_size  warranty Touchscreen  \\\n",
       "2       DDR4   128  0 GB  Windows  ...      Missing         0          No   \n",
       "3       DDR4   128  0 GB  Windows  ...      Missing         0          No   \n",
       "4       DDR4   256  0 GB  Windows  ...      Missing         0          No   \n",
       "5       DDR4   256  0 GB  Windows  ...           14         0          No   \n",
       "8       DDR4    32  0 GB  Windows  ...           14         0          No   \n",
       "..       ...   ...   ...      ...  ...          ...       ...         ...   \n",
       "890     DDR4  1024  0 GB  Windows  ...           16         1          No   \n",
       "891     DDR4  1024  0 GB  Windows  ...           16         1          No   \n",
       "892     DDR4  1024  0 GB  Windows  ...      Missing         1          No   \n",
       "893     DDR4  1024  0 GB  Windows  ...           16         1          No   \n",
       "895     DDR4   512  0 GB      DOS  ...           14         0          No   \n",
       "\n",
       "    msoffice  latest_price old_price discount  star_rating  ratings  reviews  \n",
       "2         No         19990     27990       28          3.7     1153      159  \n",
       "3         No         21490     27990       23          3.7     1153      159  \n",
       "4         No         24990     33490       25          3.7     1657      234  \n",
       "5         No         24990     33490       25          3.7     1657      234  \n",
       "8         No         26899     27668        2          0.0        0        0  \n",
       "..       ...           ...       ...      ...          ...      ...      ...  \n",
       "890       No        135990    172990       21          0.0        0        0  \n",
       "891       No        144990    194990       25          0.0        0        0  \n",
       "892       No        149990    149990        0          0.0        0        0  \n",
       "893       No        142990    142990        0          0.0        0        0  \n",
       "895       No         57490     78400       26          4.2       18        4  \n",
       "\n",
       "[744 rows x 23 columns]"
      ]
     },
     "execution_count": 16,
     "metadata": {},
     "output_type": "execute_result"
    }
   ],
   "source": [
    "ssd_df = clean_df[(clean_df.ssd != \"0 GB\")]\n",
    "ssd_df['ssd'] = ssd_df['ssd'].replace({'512 GB':512, '256 GB':256, '1024 GB':1024, '128 GB':128, '2048 GB':2048, '32 GB':32, '3072 GB':3072})\n",
    "ssd_df"
   ]
  },
  {
   "cell_type": "code",
   "execution_count": 17,
   "id": "b2456851-a042-4d92-8102-dc06ea7d2b5e",
   "metadata": {},
   "outputs": [
    {
     "data": {
      "text/html": [
       "<div>\n",
       "<style scoped>\n",
       "    .dataframe tbody tr th:only-of-type {\n",
       "        vertical-align: middle;\n",
       "    }\n",
       "\n",
       "    .dataframe tbody tr th {\n",
       "        vertical-align: top;\n",
       "    }\n",
       "\n",
       "    .dataframe thead th {\n",
       "        text-align: right;\n",
       "    }\n",
       "</style>\n",
       "<table border=\"1\" class=\"dataframe\">\n",
       "  <thead>\n",
       "    <tr style=\"text-align: right;\">\n",
       "      <th></th>\n",
       "      <th>ssd</th>\n",
       "      <th>latest_price</th>\n",
       "    </tr>\n",
       "  </thead>\n",
       "  <tbody>\n",
       "    <tr>\n",
       "      <th>ssd</th>\n",
       "      <td>1.00000</td>\n",
       "      <td>0.67411</td>\n",
       "    </tr>\n",
       "    <tr>\n",
       "      <th>latest_price</th>\n",
       "      <td>0.67411</td>\n",
       "      <td>1.00000</td>\n",
       "    </tr>\n",
       "  </tbody>\n",
       "</table>\n",
       "</div>"
      ],
      "text/plain": [
       "                  ssd  latest_price\n",
       "ssd           1.00000       0.67411\n",
       "latest_price  0.67411       1.00000"
      ]
     },
     "execution_count": 17,
     "metadata": {},
     "output_type": "execute_result"
    }
   ],
   "source": [
    "corr_df = ssd_df[['ssd','latest_price']]\n",
    "corr_df.corr()"
   ]
  },
  {
   "cell_type": "code",
   "execution_count": 18,
   "id": "bdbb6373-50b9-4a11-8e79-990193995d44",
   "metadata": {},
   "outputs": [
    {
     "data": {
      "text/plain": [
       "<AxesSubplot:xlabel='ssd', ylabel='latest_price'>"
      ]
     },
     "execution_count": 18,
     "metadata": {},
     "output_type": "execute_result"
    },
    {
     "data": {
      "image/png": "[encoded data removed]",
      "text/plain": [
       "<Figure size 432x288 with 1 Axes>"
      ]
     },
     "metadata": {
      "needs_background": "light"
     },
     "output_type": "display_data"
    }
   ],
   "source": [
    "corr_df.plot.scatter(x=\"ssd\", y=\"latest_price\", alpha=0.5)"
   ]
  },
  {
   "cell_type": "markdown",
   "id": "2536d19e-005d-419e-a9da-036dab2fb72c",
   "metadata": {},
   "source": [
    "The correlation shows that SSD size and price of laptops are positively correlated with a value of 0.67411. In the scatterplot shown, as SSD size increases, the price from each storage category steadily rises aswell from the last."
   ]
  }
 ],
 "metadata": {
  "kernelspec": {
   "display_name": "Python 3 (ipykernel)",
   "language": "python",
   "name": "python3"
  },
  "language_info": {
   "codemirror_mode": {
    "name": "ipython",
    "version": 3
   },
   "file_extension": ".py",
   "mimetype": "text/x-python",
   "name": "python",
   "nbconvert_exporter": "python",
   "pygments_lexer": "ipython3",
   "version": "3.9.12"
  }
 },
 "nbformat": 4,
 "nbformat_minor": 5
}
